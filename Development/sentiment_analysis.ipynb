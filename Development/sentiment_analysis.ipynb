{
 "cells": [
  {
   "cell_type": "markdown",
   "metadata": {},
   "source": [
    "# Sentiment Analysis"
   ]
  },
  {
   "cell_type": "code",
   "execution_count": null,
   "metadata": {},
   "outputs": [],
   "source": [
    "# Analysis Expectations\n",
    "# Polarity = Polarity lies in the range of [-1,1] where 1 means a positive statement and -1 means a negative statement.\n",
    "# Subjectivity = Subjectivity refers that mostly it is a public opinion and not factual information [0,1]."
   ]
  },
  {
   "cell_type": "code",
   "execution_count": 2,
   "metadata": {},
   "outputs": [],
   "source": [
    "import re\n",
    "import nltk\n",
    "from textblob import TextBlob\n",
    "from nltk.corpus import stopwords\n",
    "from nltk.stem import PorterStemmer\n",
    "from textblob import Word\n",
    "from nltk.util import ngrams\n",
    "import re\n",
    "from wordcloud import WordCloud, STOPWORDS\n",
    "from nltk.tokenize import word_tokenize"
   ]
  },
  {
   "cell_type": "code",
   "execution_count": 47,
   "metadata": {},
   "outputs": [
    {
     "data": {
      "text/plain": [
       "str"
      ]
     },
     "execution_count": 47,
     "metadata": {},
     "output_type": "execute_result"
    }
   ],
   "source": [
    "# Dataset creation\n",
    "review = \"I like this phone. screen quality and camera clarity is really good.\"\n",
    "review2 = \"This tv is not good. Bad quality, no clarity, worst experience\"\n",
    "type(review)"
   ]
  },
  {
   "cell_type": "code",
   "execution_count": 52,
   "metadata": {},
   "outputs": [],
   "source": [
    "\"\"\"\n",
    "def data_cleanse(text):\n",
    "    #words = text.split()\n",
    "    newWords= []\n",
    "    for word in text:\n",
    "        word = text.lower()\n",
    "        word = re.sub(r'(\\\\u[0-9A-Fa-f]+)',' ', text)\n",
    "        #word = re.sub(r'(\\\\u[0-9A-Fa-f]+)',r, word)\n",
    "        #Removes unicode strings like \"\\u002c\" and \"x96\"\n",
    "        word = re.sub(r'(\\\\u[0-9A-Fa-f]+)',' ', text)\n",
    "        word = re.sub(r'[^\\x00-\\x7f]',\" \",text)\n",
    "        #convert any url to URL\n",
    "        #word = re.sub('((www\\.[^\\s]+)|(https?://[^\\s]+))','URL',text)\n",
    "        #Convert any @Username to \"AT_USER\"\n",
    "        word = re.sub('@[^\\s]+','AT_USER',text)\n",
    "        #Remove additional white spaces\n",
    "        word = re.sub('[\\s]+', ' ', text)\n",
    "        word = re.sub('[\\n]+', ' ', text)\n",
    "        #Remove not alphanumeric symbols white spaces\n",
    "        word = re.sub(r'[^\\w]', ' ', text)\n",
    "        #Removes hastag in front of a word\n",
    "        word = re.sub(r'#([^\\s]+)', r'\\1', text)\n",
    "        #Replace #word with word\n",
    "        word = re.sub(r'#([^\\s]+)', r'\\1', text)\n",
    "        #Remove :( or :) \n",
    "        #word = text.replace(':)',' ', text)\n",
    "        #word = text.replace(':(',' ', text)\n",
    "        #remove numbers\n",
    "        word = re.sub(r'[0-9]', ' ', text)\n",
    "        #word = \".join([i for i in text if not i.isdigit()])\n",
    "        #remove multiple exclamation\n",
    "        word = re.sub(r\"(\\!)\\1+\", ' ', text)\n",
    "        #remove multiple question marks\n",
    "        word = re.sub(r\"(\\?)\\1+\", ' ', text)\n",
    "        #remove multistop\n",
    "        word = re.sub(r\"(\\.)\\1+\", ' ', text)\n",
    "        #Removes emoticons from text\n",
    "        word = re.sub(r':\\)|;\\)|:-\\)|\\(-:|:-D|=D|:P|xD|X-p|\\^\\^|:-*|\\^\\.\\^|\\^\\-\\^|\\^\\_\\^|\\,-\\)|\\)-:|:\\'\\(|:\\(|:-\\(|:\\S|T\\.T|\\.\\_\\.|:<|:-\\S|:-<|\\*\\-\\*|:O|=O|=\\-O|O\\.o|XO|O\\_O|:-\\@|=/|:/|X\\-\\(|>\\.<|>=\\(|D:', ' ', text)\n",
    "        #trim\n",
    "        word = text.strip('\\', ' '')\n",
    "    \n",
    "    return word\n",
    "\"\"\""
   ]
  },
  {
   "cell_type": "code",
   "execution_count": 70,
   "metadata": {},
   "outputs": [],
   "source": [
    "def data_cleanse(text):\n",
    "    text = re.sub(r\"[^A-Za-z0-9(),!?\\'\\`]+\", \" \", text)\n",
    "    text = text.lower()\n",
    "    text = re.sub(r'[^\\w\\s]',' ', text)\n",
    "    text = nltk.word_tokenize(text)\n",
    "    \n",
    "    return text"
   ]
  },
  {
   "cell_type": "code",
   "execution_count": 71,
   "metadata": {},
   "outputs": [
    {
     "data": {
      "text/plain": [
       "['i',\n",
       " 'like',\n",
       " 'this',\n",
       " 'phone',\n",
       " 'screen',\n",
       " 'quality',\n",
       " 'and',\n",
       " 'camera',\n",
       " 'clarity',\n",
       " 'is',\n",
       " 'really',\n",
       " 'good']"
      ]
     },
     "execution_count": 71,
     "metadata": {},
     "output_type": "execute_result"
    }
   ],
   "source": [
    "data_cleanse(review)"
   ]
  },
  {
   "cell_type": "markdown",
   "metadata": {},
   "source": [
    "# Sentiment Scoring"
   ]
  },
  {
   "cell_type": "code",
   "execution_count": 72,
   "metadata": {},
   "outputs": [
    {
     "data": {
      "text/plain": [
       "Sentiment(polarity=0.7, subjectivity=0.6000000000000001)"
      ]
     },
     "execution_count": 72,
     "metadata": {},
     "output_type": "execute_result"
    }
   ],
   "source": [
    "#Use TextBlob pre-trained Sentiment Prediction Model\n",
    "blob = TextBlob(review)\n",
    "blob.sentiment"
   ]
  },
  {
   "cell_type": "code",
   "execution_count": 73,
   "metadata": {},
   "outputs": [],
   "source": [
    "import tweepy\n",
    "\n",
    "consumer_key = 'Ke8UXNBRBfSbN6RvYPEKr56qP'\n",
    "consumer_secret = 'wsbN9aRDhndzPOZQ06aULUcGR1KeA28GNCVEaoAXe2RAU9HcMW'\n",
    "\n",
    "access_token = '742124073233309696-BqRxTaQQn0tQZ3opekXzP2rfMpaGcSP'\n",
    "access_token_secret = '7NCMyA6h7cVeIIGAWfYGou90w7GbqKGPeGDVBDbMZR32s'"
   ]
  },
  {
   "cell_type": "code",
   "execution_count": 74,
   "metadata": {},
   "outputs": [],
   "source": [
    "auth = tweepy.OAuthHandler(consumer_key, consumer_secret)\n",
    "auth.set_access_token(access_token, access_token_secret)"
   ]
  },
  {
   "cell_type": "code",
   "execution_count": 75,
   "metadata": {},
   "outputs": [],
   "source": [
    "api = tweepy.API(auth)"
   ]
  },
  {
   "cell_type": "code",
   "execution_count": 76,
   "metadata": {},
   "outputs": [],
   "source": [
    "public_tweets = api.search('reaction')"
   ]
  },
  {
   "cell_type": "code",
   "execution_count": 78,
   "metadata": {},
   "outputs": [
    {
     "name": "stdout",
     "output_type": "stream",
     "text": [
      "RT @GusuLan8125: #BJYX #YiZhan\n",
      "Dd's reaction to Gg eating lemon. He is one whipped boi... https://t.co/g1xBtBLM6A\n",
      "Sentiment(polarity=0.0, subjectivity=0.0)\n",
      "RT @NandaYashvi: #Shehnaaz Accepted That She PUSHED #Sidharth Intentionally \n",
      "\n",
      "Okay.... FINE 🙌\n",
      "\n",
      "Now I Want To See @BeingSalmanKhan Reaction…\n",
      "Sentiment(polarity=0.45833333333333337, subjectivity=0.5)\n",
      "RT @taejin_cypher: taejin nation finally we’ve got taehyung reaction to this moment:\n",
      "\n",
      "“i should’ve just touched his throat, what a shame”…\n",
      "Sentiment(polarity=0.0, subjectivity=1.0)\n",
      "Really happy to see that the general fan reaction to Star Trek: Picard. And there’s constructive converstations on… https://t.co/tFMS3INOmi\n",
      "Sentiment(polarity=0.42500000000000004, subjectivity=0.75)\n",
      "RT @NandaYashvi: #Shehnaaz Accepted That She PUSHED #Sidharth Intentionally \n",
      "\n",
      "Okay.... FINE 🙌\n",
      "\n",
      "Now I Want To See @BeingSalmanKhan Reaction…\n",
      "Sentiment(polarity=0.45833333333333337, subjectivity=0.5)\n",
      "RT @xlayers: ...Reaction Elsas😏\n",
      "#Frozen2 #Elsa #Anna https://t.co/ZlUmvW9bKo\n",
      "Sentiment(polarity=0.0, subjectivity=0.0)\n",
      "RT @_kuuuhmille: may Reaction na yung twitter sa Direct Message mga pre 🤪 https://t.co/XZ0jYmaBLJ\n",
      "Sentiment(polarity=0.1, subjectivity=0.4)\n",
      "RT @GilHeinrich: If Gabo really loves her bakit ganito reaction nia? Something is not right pero ano? #MakeAsadoWithYou\n",
      "Sentiment(polarity=0.02857142857142858, subjectivity=0.3678571428571429)\n",
      "RT @tharntype05: Oh my here is the part where Gulf made the mistake saying the two of us, but use the term for animal instead. Mew's reacti…\n",
      "Sentiment(polarity=0.0, subjectivity=0.0)\n",
      "RT @fairytaegis: i wonder if baby armys know that yoongi had a dating scandal once which turned out to be fake and the only reaction he got…\n",
      "Sentiment(polarity=-0.25, subjectivity=1.0)\n",
      "RT @L0VINGJISUNG: BRO CAN STRAY KIDS GO ON THAT LATE LATE SHOW AND PLAY THAT GAME WHERE JAMES THROWS FRUIT AT THEM?1!2!2 I WANNA SEE THEIR…\n",
      "Sentiment(polarity=-0.3333333333333333, subjectivity=0.5333333333333333)\n",
      "RT @Zayfus: Le maître avait peur d'avancer à cause du serpent, La réaction du chien est incroyable 😯 https://t.co/eDGgeFWDim\n",
      "Sentiment(polarity=0.0, subjectivity=0.0)\n",
      "Lol🤣\n",
      "What's with the promo?\n",
      "\n",
      "Sukkla provoking #AsimRiaz to get some controversial reaction from him but in reaction… https://t.co/b1pRHvDOqi\n",
      "Sentiment(polarity=0.55, subjectivity=0.95)\n",
      "RT @usopen: The legend with a heart of gold 😍\n",
      "\n",
      "@RafaelNadal accidentally hit a ballkid and his reaction was the sweetest thing you'll see t…\n",
      "Sentiment(polarity=0.0, subjectivity=0.0)\n",
      "This has happened to me twice today, about two different things.\n",
      "\n",
      "If someone calls out a perceived microaggression… https://t.co/bKTD5lYvZf\n",
      "Sentiment(polarity=0.0, subjectivity=0.6)\n"
     ]
    }
   ],
   "source": [
    "for tweet in public_tweets:\n",
    "    print(tweet.text)\n",
    "    analysis = TextBlob(tweet.text)\n",
    "    print(analysis.sentiment)"
   ]
  }
 ],
 "metadata": {
  "kernelspec": {
   "display_name": "Python 3",
   "language": "python",
   "name": "python3"
  },
  "language_info": {
   "codemirror_mode": {
    "name": "ipython",
    "version": 3
   },
   "file_extension": ".py",
   "mimetype": "text/x-python",
   "name": "python",
   "nbconvert_exporter": "python",
   "pygments_lexer": "ipython3",
   "version": "3.7.6"
  }
 },
 "nbformat": 4,
 "nbformat_minor": 2
}

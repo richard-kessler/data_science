{
 "cells": [
  {
   "cell_type": "markdown",
   "metadata": {},
   "source": [
    "# Loan Classification using k-NN "
   ]
  },
  {
   "cell_type": "markdown",
   "metadata": {},
   "source": [
    "### Project Overview"
   ]
  },
  {
   "cell_type": "markdown",
   "metadata": {},
   "source": [
    "The objective for this project is to utilize the K-Nearest Neighbor ML algorithm to build a classification prediction model using customer personal loan data. "
   ]
  },
  {
   "cell_type": "markdown",
   "metadata": {},
   "source": [
    "### Dataset Info:"
   ]
  },
  {
   "cell_type": "markdown",
   "metadata": {},
   "source": [
    "Dataset is a random listing of personal loans along with customer information.\n",
    "\n",
    "The 'personal_loan_info.csv'file contains a listing of customer loan info with a focus on loan status.\n",
    "\n",
    "\n",
    "| Field          | Description                                                                           |\n",
    "|----------------|---------------------------------------------------------------------------------------|\n",
    "| loan_id        | Unique loan id                                                                        |\n",
    "| loan_status    | Status of loan(Current, Collections, Paid, Late)                                      |\n",
    "| prin_balance   | Principle loan balance                                                                |\n",
    "| loan_term      | Loan origination terms(annual)                                                        |\n",
    "| loan_orig_date | Origination date when the loan was generated                                          |\n",
    "| loan_due_date  | Due date for next loan payment or last payment                                        |\n",
    "| customer_age   | Borrower age at time of loan generation                                               |\n",
    "| customer_income| Borrower income noted from loan application                                           |\n",
    "| customer_gender| Borrower gender                                                                       |\n",
    "| customer_edu   | Borrower latest education noted from loan application                                 |"
   ]
  },
  {
   "cell_type": "markdown",
   "metadata": {},
   "source": [
    "### Python library/module setup"
   ]
  },
  {
   "cell_type": "code",
   "execution_count": 19,
   "metadata": {},
   "outputs": [],
   "source": [
    "import itertools\n",
    "import numpy as np\n",
    "import pandas as pd\n",
    "import seaborn as sns\n",
    "import matplotlib.pyplot as plt\n",
    "from matplotlib.ticker import NullFormatter\n",
    "import matplotlib.ticker as ticker\n",
    "from sklearn import preprocessing\n",
    "%matplotlib inline"
   ]
  },
  {
   "cell_type": "markdown",
   "metadata": {},
   "source": [
    "### Import 'personal_loan_info.csv'"
   ]
  },
  {
   "cell_type": "code",
   "execution_count": 13,
   "metadata": {},
   "outputs": [
    {
     "name": "stdout",
     "output_type": "stream",
     "text": [
      "     loan_id  loan_status  principal_balance  loan_term loan_orig_date  \\\n",
      "0          1      Current              62868         15       1/1/2014   \n",
      "1          2  Collections              29152         13     12/30/2015   \n",
      "2          3         Paid              69370         13     10/11/2015   \n",
      "3          4         Late              67059         14      6/30/2015   \n",
      "4          5      Current              78181         13      3/16/2016   \n",
      "..       ...          ...                ...        ...            ...   \n",
      "123      124         Late              47660          8      8/29/2015   \n",
      "124      125      Current              38488         13      2/23/2016   \n",
      "125      126  Collections               1222         14      1/27/2015   \n",
      "126      127         Paid              20390          8      1/30/2015   \n",
      "127      128         Late              54678          6      5/23/2015   \n",
      "\n",
      "    loan_due_date  customer_age customer_gender  customer_income customer_edu  \n",
      "0        2/6/2020            38               F            38877  High School  \n",
      "1      12/29/2016            46               F            13082   Associates  \n",
      "2       1/27/2020            51               F            49742     Bachelor  \n",
      "3        1/7/2020            22               F            50453      Masters  \n",
      "4        2/6/2020            59               F            26114   HighSchool  \n",
      "..            ...           ...             ...              ...          ...  \n",
      "123      1/7/2020            43               F            45650  High School  \n",
      "124      2/6/2020            53               F            19949  High School  \n",
      "125     1/27/2016            50               F            20216  High School  \n",
      "126     1/27/2020            36               M            31523  High School  \n",
      "127      1/7/2020            53               M            57710  High School  \n",
      "\n",
      "[128 rows x 10 columns]\n"
     ]
    }
   ],
   "source": [
    "df = pd.read_csv(r'personal_loan_info.csv')\n",
    "print(df)"
   ]
  },
  {
   "cell_type": "code",
   "execution_count": 14,
   "metadata": {
    "scrolled": true
   },
   "outputs": [
    {
     "data": {
      "text/plain": [
       "(128, 10)"
      ]
     },
     "execution_count": 14,
     "metadata": {},
     "output_type": "execute_result"
    }
   ],
   "source": [
    "df.shape"
   ]
  },
  {
   "cell_type": "markdown",
   "metadata": {},
   "source": [
    "### Convert csv date fields to datetime format"
   ]
  },
  {
   "cell_type": "code",
   "execution_count": 15,
   "metadata": {},
   "outputs": [
    {
     "data": {
      "text/html": [
       "<div>\n",
       "<style scoped>\n",
       "    .dataframe tbody tr th:only-of-type {\n",
       "        vertical-align: middle;\n",
       "    }\n",
       "\n",
       "    .dataframe tbody tr th {\n",
       "        vertical-align: top;\n",
       "    }\n",
       "\n",
       "    .dataframe thead th {\n",
       "        text-align: right;\n",
       "    }\n",
       "</style>\n",
       "<table border=\"1\" class=\"dataframe\">\n",
       "  <thead>\n",
       "    <tr style=\"text-align: right;\">\n",
       "      <th></th>\n",
       "      <th>loan_id</th>\n",
       "      <th>loan_status</th>\n",
       "      <th>principal_balance</th>\n",
       "      <th>loan_term</th>\n",
       "      <th>loan_orig_date</th>\n",
       "      <th>loan_due_date</th>\n",
       "      <th>customer_age</th>\n",
       "      <th>customer_gender</th>\n",
       "      <th>customer_income</th>\n",
       "      <th>customer_edu</th>\n",
       "    </tr>\n",
       "  </thead>\n",
       "  <tbody>\n",
       "    <tr>\n",
       "      <th>0</th>\n",
       "      <td>1</td>\n",
       "      <td>Current</td>\n",
       "      <td>62868</td>\n",
       "      <td>15</td>\n",
       "      <td>2014-01-01</td>\n",
       "      <td>2020-02-06</td>\n",
       "      <td>38</td>\n",
       "      <td>F</td>\n",
       "      <td>38877</td>\n",
       "      <td>High School</td>\n",
       "    </tr>\n",
       "    <tr>\n",
       "      <th>1</th>\n",
       "      <td>2</td>\n",
       "      <td>Collections</td>\n",
       "      <td>29152</td>\n",
       "      <td>13</td>\n",
       "      <td>2015-12-30</td>\n",
       "      <td>2016-12-29</td>\n",
       "      <td>46</td>\n",
       "      <td>F</td>\n",
       "      <td>13082</td>\n",
       "      <td>Associates</td>\n",
       "    </tr>\n",
       "    <tr>\n",
       "      <th>2</th>\n",
       "      <td>3</td>\n",
       "      <td>Paid</td>\n",
       "      <td>69370</td>\n",
       "      <td>13</td>\n",
       "      <td>2015-10-11</td>\n",
       "      <td>2020-01-27</td>\n",
       "      <td>51</td>\n",
       "      <td>F</td>\n",
       "      <td>49742</td>\n",
       "      <td>Bachelor</td>\n",
       "    </tr>\n",
       "    <tr>\n",
       "      <th>3</th>\n",
       "      <td>4</td>\n",
       "      <td>Late</td>\n",
       "      <td>67059</td>\n",
       "      <td>14</td>\n",
       "      <td>2015-06-30</td>\n",
       "      <td>2020-01-07</td>\n",
       "      <td>22</td>\n",
       "      <td>F</td>\n",
       "      <td>50453</td>\n",
       "      <td>Masters</td>\n",
       "    </tr>\n",
       "    <tr>\n",
       "      <th>4</th>\n",
       "      <td>5</td>\n",
       "      <td>Current</td>\n",
       "      <td>78181</td>\n",
       "      <td>13</td>\n",
       "      <td>2016-03-16</td>\n",
       "      <td>2020-02-06</td>\n",
       "      <td>59</td>\n",
       "      <td>F</td>\n",
       "      <td>26114</td>\n",
       "      <td>HighSchool</td>\n",
       "    </tr>\n",
       "  </tbody>\n",
       "</table>\n",
       "</div>"
      ],
      "text/plain": [
       "   loan_id  loan_status  principal_balance  loan_term loan_orig_date  \\\n",
       "0        1      Current              62868         15     2014-01-01   \n",
       "1        2  Collections              29152         13     2015-12-30   \n",
       "2        3         Paid              69370         13     2015-10-11   \n",
       "3        4         Late              67059         14     2015-06-30   \n",
       "4        5      Current              78181         13     2016-03-16   \n",
       "\n",
       "  loan_due_date  customer_age customer_gender  customer_income customer_edu  \n",
       "0    2020-02-06            38               F            38877  High School  \n",
       "1    2016-12-29            46               F            13082   Associates  \n",
       "2    2020-01-27            51               F            49742     Bachelor  \n",
       "3    2020-01-07            22               F            50453      Masters  \n",
       "4    2020-02-06            59               F            26114   HighSchool  "
      ]
     },
     "execution_count": 15,
     "metadata": {},
     "output_type": "execute_result"
    }
   ],
   "source": [
    "df['loan_orig_date'] = pd.to_datetime(df['loan_orig_date'])\n",
    "df['loan_due_date'] = pd.to_datetime(df['loan_due_date'])\n",
    "df.head()"
   ]
  },
  {
   "cell_type": "markdown",
   "metadata": {},
   "source": [
    "### Data Inspection"
   ]
  },
  {
   "cell_type": "code",
   "execution_count": 17,
   "metadata": {
    "scrolled": true
   },
   "outputs": [
    {
     "data": {
      "text/html": [
       "<div>\n",
       "<style scoped>\n",
       "    .dataframe tbody tr th:only-of-type {\n",
       "        vertical-align: middle;\n",
       "    }\n",
       "\n",
       "    .dataframe tbody tr th {\n",
       "        vertical-align: top;\n",
       "    }\n",
       "\n",
       "    .dataframe thead th {\n",
       "        text-align: right;\n",
       "    }\n",
       "</style>\n",
       "<table border=\"1\" class=\"dataframe\">\n",
       "  <thead>\n",
       "    <tr style=\"text-align: right;\">\n",
       "      <th></th>\n",
       "      <th>loan_id</th>\n",
       "      <th>principal_balance</th>\n",
       "      <th>loan_term</th>\n",
       "      <th>customer_age</th>\n",
       "      <th>customer_income</th>\n",
       "    </tr>\n",
       "  </thead>\n",
       "  <tbody>\n",
       "    <tr>\n",
       "      <th>count</th>\n",
       "      <td>128.000000</td>\n",
       "      <td>128.00000</td>\n",
       "      <td>128.000000</td>\n",
       "      <td>128.00000</td>\n",
       "      <td>128.000000</td>\n",
       "    </tr>\n",
       "    <tr>\n",
       "      <th>mean</th>\n",
       "      <td>64.500000</td>\n",
       "      <td>42662.03125</td>\n",
       "      <td>8.648438</td>\n",
       "      <td>44.46875</td>\n",
       "      <td>54991.718750</td>\n",
       "    </tr>\n",
       "    <tr>\n",
       "      <th>std</th>\n",
       "      <td>37.094474</td>\n",
       "      <td>22042.35593</td>\n",
       "      <td>3.782658</td>\n",
       "      <td>13.39934</td>\n",
       "      <td>26158.223092</td>\n",
       "    </tr>\n",
       "    <tr>\n",
       "      <th>min</th>\n",
       "      <td>1.000000</td>\n",
       "      <td>1222.00000</td>\n",
       "      <td>3.000000</td>\n",
       "      <td>22.00000</td>\n",
       "      <td>10279.000000</td>\n",
       "    </tr>\n",
       "    <tr>\n",
       "      <th>25%</th>\n",
       "      <td>32.750000</td>\n",
       "      <td>23065.50000</td>\n",
       "      <td>5.000000</td>\n",
       "      <td>33.75000</td>\n",
       "      <td>33198.500000</td>\n",
       "    </tr>\n",
       "    <tr>\n",
       "      <th>50%</th>\n",
       "      <td>64.500000</td>\n",
       "      <td>45162.50000</td>\n",
       "      <td>8.000000</td>\n",
       "      <td>44.50000</td>\n",
       "      <td>50735.000000</td>\n",
       "    </tr>\n",
       "    <tr>\n",
       "      <th>75%</th>\n",
       "      <td>96.250000</td>\n",
       "      <td>60372.75000</td>\n",
       "      <td>12.000000</td>\n",
       "      <td>55.00000</td>\n",
       "      <td>77374.500000</td>\n",
       "    </tr>\n",
       "    <tr>\n",
       "      <th>max</th>\n",
       "      <td>128.000000</td>\n",
       "      <td>79856.00000</td>\n",
       "      <td>15.000000</td>\n",
       "      <td>68.00000</td>\n",
       "      <td>99997.000000</td>\n",
       "    </tr>\n",
       "  </tbody>\n",
       "</table>\n",
       "</div>"
      ],
      "text/plain": [
       "          loan_id  principal_balance   loan_term  customer_age  \\\n",
       "count  128.000000          128.00000  128.000000     128.00000   \n",
       "mean    64.500000        42662.03125    8.648438      44.46875   \n",
       "std     37.094474        22042.35593    3.782658      13.39934   \n",
       "min      1.000000         1222.00000    3.000000      22.00000   \n",
       "25%     32.750000        23065.50000    5.000000      33.75000   \n",
       "50%     64.500000        45162.50000    8.000000      44.50000   \n",
       "75%     96.250000        60372.75000   12.000000      55.00000   \n",
       "max    128.000000        79856.00000   15.000000      68.00000   \n",
       "\n",
       "       customer_income  \n",
       "count       128.000000  \n",
       "mean      54991.718750  \n",
       "std       26158.223092  \n",
       "min       10279.000000  \n",
       "25%       33198.500000  \n",
       "50%       50735.000000  \n",
       "75%       77374.500000  \n",
       "max       99997.000000  "
      ]
     },
     "execution_count": 17,
     "metadata": {},
     "output_type": "execute_result"
    }
   ],
   "source": [
    "df.describe()"
   ]
  },
  {
   "cell_type": "code",
   "execution_count": 45,
   "metadata": {},
   "outputs": [
    {
     "data": {
      "text/plain": [
       "loan_id                       int64\n",
       "loan_status                  object\n",
       "principal_balance             int64\n",
       "loan_term                     int64\n",
       "loan_orig_date       datetime64[ns]\n",
       "loan_due_date        datetime64[ns]\n",
       "customer_age                  int64\n",
       "customer_gender              object\n",
       "customer_income               int64\n",
       "customer_edu                 object\n",
       "dtype: object"
      ]
     },
     "execution_count": 45,
     "metadata": {},
     "output_type": "execute_result"
    }
   ],
   "source": [
    "(df.dtypes)"
   ]
  },
  {
   "cell_type": "markdown",
   "metadata": {},
   "source": [
    "Check for missing values"
   ]
  },
  {
   "cell_type": "code",
   "execution_count": 42,
   "metadata": {},
   "outputs": [
    {
     "name": "stdout",
     "output_type": "stream",
     "text": [
      "loan_id              0.0\n",
      "loan_status          0.0\n",
      "principal_balance    0.0\n",
      "loan_term            0.0\n",
      "loan_orig_date       0.0\n",
      "loan_due_date        0.0\n",
      "customer_age         0.0\n",
      "customer_gender      0.0\n",
      "customer_income      0.0\n",
      "customer_edu         0.0\n",
      "dtype: float64\n"
     ]
    }
   ],
   "source": [
    "missing_count = df.isnull().sum()/len(df)*100\n",
    "print(missing_count)"
   ]
  },
  {
   "cell_type": "markdown",
   "metadata": {},
   "source": [
    "Observation: no missing values within the dataset"
   ]
  },
  {
   "cell_type": "code",
   "execution_count": 18,
   "metadata": {},
   "outputs": [
    {
     "data": {
      "text/plain": [
       "Current        32\n",
       "Paid           32\n",
       "Late           32\n",
       "Collections    32\n",
       "Name: loan_status, dtype: int64"
      ]
     },
     "execution_count": 18,
     "metadata": {},
     "output_type": "execute_result"
    }
   ],
   "source": [
    "df['loan_status'].value_counts()"
   ]
  },
  {
   "cell_type": "markdown",
   "metadata": {},
   "source": [
    "### Visualize loan data"
   ]
  },
  {
   "cell_type": "code",
   "execution_count": 35,
   "metadata": {},
   "outputs": [
    {
     "data": {
      "image/png": "[encoded data removed]",
      "text/plain": [
       "<Figure size 432x432 with 4 Axes>"
      ]
     },
     "metadata": {
      "needs_background": "light"
     },
     "output_type": "display_data"
    }
   ],
   "source": [
    "bins = np.linspace(df.principal_balance.min(), df.principal_balance.max(), 20)\n",
    "g = sns.FacetGrid(df, col='loan_status', hue='customer_gender', palette='Set2', col_wrap=2)\n",
    "g.map(plt.hist, 'principal_balance', bins=bins, ec='k')\n",
    "g.axes[-1].legend()\n",
    "plt.show()"
   ]
  },
  {
   "cell_type": "markdown",
   "metadata": {},
   "source": [
    "Observation: equal distributions for most of the loan status, with slightly more female accounts in the 'Paid' and 'Late' status."
   ]
  },
  {
   "cell_type": "code",
   "execution_count": 39,
   "metadata": {},
   "outputs": [
    {
     "data": {
      "image/png": "[encoded data removed]",
      "text/plain": [
       "<Figure size 432x648 with 5 Axes>"
      ]
     },
     "metadata": {
      "needs_background": "light"
     },
     "output_type": "display_data"
    }
   ],
   "source": [
    "bins = np.linspace(df.principal_balance.min(), df.principal_balance.max(), 10)\n",
    "g = sns.FacetGrid(df, col='customer_edu', hue='customer_gender', palette='Set1', col_wrap=2)\n",
    "g.map(plt.hist, 'principal_balance', bins=bins, ec='k')\n",
    "g.axes[-1].legend()\n",
    "plt.show()"
   ]
  },
  {
   "cell_type": "markdown",
   "metadata": {},
   "source": [
    "Observation: equal distributions for customer education being High School, only customers with Masters education are female."
   ]
  },
  {
   "cell_type": "code",
   "execution_count": 41,
   "metadata": {},
   "outputs": [
    {
     "data": {
      "text/plain": [
       "customer_gender  loan_status\n",
       "F                Late           0.280000\n",
       "                 Paid           0.260000\n",
       "                 Collections    0.230000\n",
       "                 Current        0.230000\n",
       "M                Collections    0.321429\n",
       "                 Current        0.321429\n",
       "                 Paid           0.214286\n",
       "                 Late           0.142857\n",
       "Name: loan_status, dtype: float64"
      ]
     },
     "execution_count": 41,
     "metadata": {},
     "output_type": "execute_result"
    }
   ],
   "source": [
    "df.groupby(['customer_gender'])['loan_status'].value_counts(normalize=True)"
   ]
  },
  {
   "cell_type": "markdown",
   "metadata": {},
   "source": [
    "Observation: distributions look somewhat evenly spread out with males showing half as late as females...but higher volumes in 'Collections'"
   ]
  },
  {
   "cell_type": "markdown",
   "metadata": {},
   "source": [
    "### Feature Processing"
   ]
  },
  {
   "cell_type": "markdown",
   "metadata": {},
   "source": [
    "Create new dataframe with interval features only"
   ]
  },
  {
   "cell_type": "code",
   "execution_count": 70,
   "metadata": {},
   "outputs": [],
   "source": [
    "df_int = df[['principal_balance','loan_term','customer_age','customer_income']]"
   ]
  },
  {
   "cell_type": "markdown",
   "metadata": {},
   "source": [
    "Convert the categorical features to binary and append to df_int, create new dataframe for features"
   ]
  },
  {
   "cell_type": "code",
   "execution_count": 71,
   "metadata": {},
   "outputs": [],
   "source": [
    "feature = pd.concat([df_int,\n",
    "                     pd.get_dummies(df['loan_status']),\n",
    "                     pd.get_dummies(df['customer_gender']),\n",
    "                     pd.get_dummies(df['customer_edu'])]\n",
    "                     ,axis=1)"
   ]
  },
  {
   "cell_type": "markdown",
   "metadata": {},
   "source": [
    "Evaluate feature dataset and validate cat features were converted"
   ]
  },
  {
   "cell_type": "code",
   "execution_count": 72,
   "metadata": {},
   "outputs": [
    {
     "data": {
      "text/html": [
       "<div>\n",
       "<style scoped>\n",
       "    .dataframe tbody tr th:only-of-type {\n",
       "        vertical-align: middle;\n",
       "    }\n",
       "\n",
       "    .dataframe tbody tr th {\n",
       "        vertical-align: top;\n",
       "    }\n",
       "\n",
       "    .dataframe thead th {\n",
       "        text-align: right;\n",
       "    }\n",
       "</style>\n",
       "<table border=\"1\" class=\"dataframe\">\n",
       "  <thead>\n",
       "    <tr style=\"text-align: right;\">\n",
       "      <th></th>\n",
       "      <th>principal_balance</th>\n",
       "      <th>loan_term</th>\n",
       "      <th>customer_age</th>\n",
       "      <th>customer_income</th>\n",
       "      <th>Collections</th>\n",
       "      <th>Current</th>\n",
       "      <th>Late</th>\n",
       "      <th>Paid</th>\n",
       "      <th>F</th>\n",
       "      <th>M</th>\n",
       "      <th>Associates</th>\n",
       "      <th>Bachelor</th>\n",
       "      <th>High School</th>\n",
       "      <th>HighSchool</th>\n",
       "      <th>Masters</th>\n",
       "    </tr>\n",
       "  </thead>\n",
       "  <tbody>\n",
       "    <tr>\n",
       "      <th>0</th>\n",
       "      <td>62868</td>\n",
       "      <td>15</td>\n",
       "      <td>38</td>\n",
       "      <td>38877</td>\n",
       "      <td>0</td>\n",
       "      <td>1</td>\n",
       "      <td>0</td>\n",
       "      <td>0</td>\n",
       "      <td>1</td>\n",
       "      <td>0</td>\n",
       "      <td>0</td>\n",
       "      <td>0</td>\n",
       "      <td>1</td>\n",
       "      <td>0</td>\n",
       "      <td>0</td>\n",
       "    </tr>\n",
       "    <tr>\n",
       "      <th>1</th>\n",
       "      <td>29152</td>\n",
       "      <td>13</td>\n",
       "      <td>46</td>\n",
       "      <td>13082</td>\n",
       "      <td>1</td>\n",
       "      <td>0</td>\n",
       "      <td>0</td>\n",
       "      <td>0</td>\n",
       "      <td>1</td>\n",
       "      <td>0</td>\n",
       "      <td>1</td>\n",
       "      <td>0</td>\n",
       "      <td>0</td>\n",
       "      <td>0</td>\n",
       "      <td>0</td>\n",
       "    </tr>\n",
       "    <tr>\n",
       "      <th>2</th>\n",
       "      <td>69370</td>\n",
       "      <td>13</td>\n",
       "      <td>51</td>\n",
       "      <td>49742</td>\n",
       "      <td>0</td>\n",
       "      <td>0</td>\n",
       "      <td>0</td>\n",
       "      <td>1</td>\n",
       "      <td>1</td>\n",
       "      <td>0</td>\n",
       "      <td>0</td>\n",
       "      <td>1</td>\n",
       "      <td>0</td>\n",
       "      <td>0</td>\n",
       "      <td>0</td>\n",
       "    </tr>\n",
       "    <tr>\n",
       "      <th>3</th>\n",
       "      <td>67059</td>\n",
       "      <td>14</td>\n",
       "      <td>22</td>\n",
       "      <td>50453</td>\n",
       "      <td>0</td>\n",
       "      <td>0</td>\n",
       "      <td>1</td>\n",
       "      <td>0</td>\n",
       "      <td>1</td>\n",
       "      <td>0</td>\n",
       "      <td>0</td>\n",
       "      <td>0</td>\n",
       "      <td>0</td>\n",
       "      <td>0</td>\n",
       "      <td>1</td>\n",
       "    </tr>\n",
       "    <tr>\n",
       "      <th>4</th>\n",
       "      <td>78181</td>\n",
       "      <td>13</td>\n",
       "      <td>59</td>\n",
       "      <td>26114</td>\n",
       "      <td>0</td>\n",
       "      <td>1</td>\n",
       "      <td>0</td>\n",
       "      <td>0</td>\n",
       "      <td>1</td>\n",
       "      <td>0</td>\n",
       "      <td>0</td>\n",
       "      <td>0</td>\n",
       "      <td>0</td>\n",
       "      <td>1</td>\n",
       "      <td>0</td>\n",
       "    </tr>\n",
       "    <tr>\n",
       "      <th>...</th>\n",
       "      <td>...</td>\n",
       "      <td>...</td>\n",
       "      <td>...</td>\n",
       "      <td>...</td>\n",
       "      <td>...</td>\n",
       "      <td>...</td>\n",
       "      <td>...</td>\n",
       "      <td>...</td>\n",
       "      <td>...</td>\n",
       "      <td>...</td>\n",
       "      <td>...</td>\n",
       "      <td>...</td>\n",
       "      <td>...</td>\n",
       "      <td>...</td>\n",
       "      <td>...</td>\n",
       "    </tr>\n",
       "    <tr>\n",
       "      <th>123</th>\n",
       "      <td>47660</td>\n",
       "      <td>8</td>\n",
       "      <td>43</td>\n",
       "      <td>45650</td>\n",
       "      <td>0</td>\n",
       "      <td>0</td>\n",
       "      <td>1</td>\n",
       "      <td>0</td>\n",
       "      <td>1</td>\n",
       "      <td>0</td>\n",
       "      <td>0</td>\n",
       "      <td>0</td>\n",
       "      <td>1</td>\n",
       "      <td>0</td>\n",
       "      <td>0</td>\n",
       "    </tr>\n",
       "    <tr>\n",
       "      <th>124</th>\n",
       "      <td>38488</td>\n",
       "      <td>13</td>\n",
       "      <td>53</td>\n",
       "      <td>19949</td>\n",
       "      <td>0</td>\n",
       "      <td>1</td>\n",
       "      <td>0</td>\n",
       "      <td>0</td>\n",
       "      <td>1</td>\n",
       "      <td>0</td>\n",
       "      <td>0</td>\n",
       "      <td>0</td>\n",
       "      <td>1</td>\n",
       "      <td>0</td>\n",
       "      <td>0</td>\n",
       "    </tr>\n",
       "    <tr>\n",
       "      <th>125</th>\n",
       "      <td>1222</td>\n",
       "      <td>14</td>\n",
       "      <td>50</td>\n",
       "      <td>20216</td>\n",
       "      <td>1</td>\n",
       "      <td>0</td>\n",
       "      <td>0</td>\n",
       "      <td>0</td>\n",
       "      <td>1</td>\n",
       "      <td>0</td>\n",
       "      <td>0</td>\n",
       "      <td>0</td>\n",
       "      <td>1</td>\n",
       "      <td>0</td>\n",
       "      <td>0</td>\n",
       "    </tr>\n",
       "    <tr>\n",
       "      <th>126</th>\n",
       "      <td>20390</td>\n",
       "      <td>8</td>\n",
       "      <td>36</td>\n",
       "      <td>31523</td>\n",
       "      <td>0</td>\n",
       "      <td>0</td>\n",
       "      <td>0</td>\n",
       "      <td>1</td>\n",
       "      <td>0</td>\n",
       "      <td>1</td>\n",
       "      <td>0</td>\n",
       "      <td>0</td>\n",
       "      <td>1</td>\n",
       "      <td>0</td>\n",
       "      <td>0</td>\n",
       "    </tr>\n",
       "    <tr>\n",
       "      <th>127</th>\n",
       "      <td>54678</td>\n",
       "      <td>6</td>\n",
       "      <td>53</td>\n",
       "      <td>57710</td>\n",
       "      <td>0</td>\n",
       "      <td>0</td>\n",
       "      <td>1</td>\n",
       "      <td>0</td>\n",
       "      <td>0</td>\n",
       "      <td>1</td>\n",
       "      <td>0</td>\n",
       "      <td>0</td>\n",
       "      <td>1</td>\n",
       "      <td>0</td>\n",
       "      <td>0</td>\n",
       "    </tr>\n",
       "  </tbody>\n",
       "</table>\n",
       "<p>128 rows × 15 columns</p>\n",
       "</div>"
      ],
      "text/plain": [
       "     principal_balance  loan_term  customer_age  customer_income  Collections  \\\n",
       "0                62868         15            38            38877            0   \n",
       "1                29152         13            46            13082            1   \n",
       "2                69370         13            51            49742            0   \n",
       "3                67059         14            22            50453            0   \n",
       "4                78181         13            59            26114            0   \n",
       "..                 ...        ...           ...              ...          ...   \n",
       "123              47660          8            43            45650            0   \n",
       "124              38488         13            53            19949            0   \n",
       "125               1222         14            50            20216            1   \n",
       "126              20390          8            36            31523            0   \n",
       "127              54678          6            53            57710            0   \n",
       "\n",
       "     Current  Late  Paid  F  M  Associates  Bachelor  High School  HighSchool  \\\n",
       "0          1     0     0  1  0           0         0            1           0   \n",
       "1          0     0     0  1  0           1         0            0           0   \n",
       "2          0     0     1  1  0           0         1            0           0   \n",
       "3          0     1     0  1  0           0         0            0           0   \n",
       "4          1     0     0  1  0           0         0            0           1   \n",
       "..       ...   ...   ... .. ..         ...       ...          ...         ...   \n",
       "123        0     1     0  1  0           0         0            1           0   \n",
       "124        1     0     0  1  0           0         0            1           0   \n",
       "125        0     0     0  1  0           0         0            1           0   \n",
       "126        0     0     1  0  1           0         0            1           0   \n",
       "127        0     1     0  0  1           0         0            1           0   \n",
       "\n",
       "     Masters  \n",
       "0          0  \n",
       "1          0  \n",
       "2          0  \n",
       "3          1  \n",
       "4          0  \n",
       "..       ...  \n",
       "123        0  \n",
       "124        0  \n",
       "125        0  \n",
       "126        0  \n",
       "127        0  \n",
       "\n",
       "[128 rows x 15 columns]"
      ]
     },
     "execution_count": 72,
     "metadata": {},
     "output_type": "execute_result"
    }
   ],
   "source": [
    "feature"
   ]
  },
  {
   "cell_type": "markdown",
   "metadata": {},
   "source": [
    "### Correlation Analysis - Features"
   ]
  },
  {
   "cell_type": "code",
   "execution_count": 73,
   "metadata": {
    "scrolled": true
   },
   "outputs": [
    {
     "data": {
      "text/plain": [
       "<matplotlib.axes._subplots.AxesSubplot at 0x1c7d8352a08>"
      ]
     },
     "execution_count": 73,
     "metadata": {},
     "output_type": "execute_result"
    },
    {
     "data": {
      "image/png": "[encoded data removed]",
      "text/plain": [
       "<Figure size 432x288 with 2 Axes>"
      ]
     },
     "metadata": {
      "needs_background": "light"
     },
     "output_type": "display_data"
    }
   ],
   "source": [
    "corr = feature.corr()\n",
    "sns.heatmap(corr, \n",
    "        xticklabels=corr.columns,\n",
    "        yticklabels=corr.columns)"
   ]
  },
  {
   "cell_type": "markdown",
   "metadata": {},
   "source": [
    "Observation: Features show relative importance but no features truly stand out as significantly important"
   ]
  },
  {
   "cell_type": "markdown",
   "metadata": {},
   "source": [
    "### Define Feature Selection: X, y"
   ]
  },
  {
   "cell_type": "code",
   "execution_count": 74,
   "metadata": {},
   "outputs": [
    {
     "data": {
      "text/html": [
       "<div>\n",
       "<style scoped>\n",
       "    .dataframe tbody tr th:only-of-type {\n",
       "        vertical-align: middle;\n",
       "    }\n",
       "\n",
       "    .dataframe tbody tr th {\n",
       "        vertical-align: top;\n",
       "    }\n",
       "\n",
       "    .dataframe thead th {\n",
       "        text-align: right;\n",
       "    }\n",
       "</style>\n",
       "<table border=\"1\" class=\"dataframe\">\n",
       "  <thead>\n",
       "    <tr style=\"text-align: right;\">\n",
       "      <th></th>\n",
       "      <th>principal_balance</th>\n",
       "      <th>loan_term</th>\n",
       "      <th>customer_age</th>\n",
       "      <th>customer_income</th>\n",
       "      <th>Collections</th>\n",
       "      <th>Current</th>\n",
       "      <th>Late</th>\n",
       "      <th>Paid</th>\n",
       "      <th>F</th>\n",
       "      <th>M</th>\n",
       "      <th>Associates</th>\n",
       "      <th>Bachelor</th>\n",
       "      <th>High School</th>\n",
       "      <th>HighSchool</th>\n",
       "      <th>Masters</th>\n",
       "    </tr>\n",
       "  </thead>\n",
       "  <tbody>\n",
       "    <tr>\n",
       "      <th>0</th>\n",
       "      <td>62868</td>\n",
       "      <td>15</td>\n",
       "      <td>38</td>\n",
       "      <td>38877</td>\n",
       "      <td>0</td>\n",
       "      <td>1</td>\n",
       "      <td>0</td>\n",
       "      <td>0</td>\n",
       "      <td>1</td>\n",
       "      <td>0</td>\n",
       "      <td>0</td>\n",
       "      <td>0</td>\n",
       "      <td>1</td>\n",
       "      <td>0</td>\n",
       "      <td>0</td>\n",
       "    </tr>\n",
       "    <tr>\n",
       "      <th>1</th>\n",
       "      <td>29152</td>\n",
       "      <td>13</td>\n",
       "      <td>46</td>\n",
       "      <td>13082</td>\n",
       "      <td>1</td>\n",
       "      <td>0</td>\n",
       "      <td>0</td>\n",
       "      <td>0</td>\n",
       "      <td>1</td>\n",
       "      <td>0</td>\n",
       "      <td>1</td>\n",
       "      <td>0</td>\n",
       "      <td>0</td>\n",
       "      <td>0</td>\n",
       "      <td>0</td>\n",
       "    </tr>\n",
       "    <tr>\n",
       "      <th>2</th>\n",
       "      <td>69370</td>\n",
       "      <td>13</td>\n",
       "      <td>51</td>\n",
       "      <td>49742</td>\n",
       "      <td>0</td>\n",
       "      <td>0</td>\n",
       "      <td>0</td>\n",
       "      <td>1</td>\n",
       "      <td>1</td>\n",
       "      <td>0</td>\n",
       "      <td>0</td>\n",
       "      <td>1</td>\n",
       "      <td>0</td>\n",
       "      <td>0</td>\n",
       "      <td>0</td>\n",
       "    </tr>\n",
       "    <tr>\n",
       "      <th>3</th>\n",
       "      <td>67059</td>\n",
       "      <td>14</td>\n",
       "      <td>22</td>\n",
       "      <td>50453</td>\n",
       "      <td>0</td>\n",
       "      <td>0</td>\n",
       "      <td>1</td>\n",
       "      <td>0</td>\n",
       "      <td>1</td>\n",
       "      <td>0</td>\n",
       "      <td>0</td>\n",
       "      <td>0</td>\n",
       "      <td>0</td>\n",
       "      <td>0</td>\n",
       "      <td>1</td>\n",
       "    </tr>\n",
       "    <tr>\n",
       "      <th>4</th>\n",
       "      <td>78181</td>\n",
       "      <td>13</td>\n",
       "      <td>59</td>\n",
       "      <td>26114</td>\n",
       "      <td>0</td>\n",
       "      <td>1</td>\n",
       "      <td>0</td>\n",
       "      <td>0</td>\n",
       "      <td>1</td>\n",
       "      <td>0</td>\n",
       "      <td>0</td>\n",
       "      <td>0</td>\n",
       "      <td>0</td>\n",
       "      <td>1</td>\n",
       "      <td>0</td>\n",
       "    </tr>\n",
       "    <tr>\n",
       "      <th>...</th>\n",
       "      <td>...</td>\n",
       "      <td>...</td>\n",
       "      <td>...</td>\n",
       "      <td>...</td>\n",
       "      <td>...</td>\n",
       "      <td>...</td>\n",
       "      <td>...</td>\n",
       "      <td>...</td>\n",
       "      <td>...</td>\n",
       "      <td>...</td>\n",
       "      <td>...</td>\n",
       "      <td>...</td>\n",
       "      <td>...</td>\n",
       "      <td>...</td>\n",
       "      <td>...</td>\n",
       "    </tr>\n",
       "    <tr>\n",
       "      <th>123</th>\n",
       "      <td>47660</td>\n",
       "      <td>8</td>\n",
       "      <td>43</td>\n",
       "      <td>45650</td>\n",
       "      <td>0</td>\n",
       "      <td>0</td>\n",
       "      <td>1</td>\n",
       "      <td>0</td>\n",
       "      <td>1</td>\n",
       "      <td>0</td>\n",
       "      <td>0</td>\n",
       "      <td>0</td>\n",
       "      <td>1</td>\n",
       "      <td>0</td>\n",
       "      <td>0</td>\n",
       "    </tr>\n",
       "    <tr>\n",
       "      <th>124</th>\n",
       "      <td>38488</td>\n",
       "      <td>13</td>\n",
       "      <td>53</td>\n",
       "      <td>19949</td>\n",
       "      <td>0</td>\n",
       "      <td>1</td>\n",
       "      <td>0</td>\n",
       "      <td>0</td>\n",
       "      <td>1</td>\n",
       "      <td>0</td>\n",
       "      <td>0</td>\n",
       "      <td>0</td>\n",
       "      <td>1</td>\n",
       "      <td>0</td>\n",
       "      <td>0</td>\n",
       "    </tr>\n",
       "    <tr>\n",
       "      <th>125</th>\n",
       "      <td>1222</td>\n",
       "      <td>14</td>\n",
       "      <td>50</td>\n",
       "      <td>20216</td>\n",
       "      <td>1</td>\n",
       "      <td>0</td>\n",
       "      <td>0</td>\n",
       "      <td>0</td>\n",
       "      <td>1</td>\n",
       "      <td>0</td>\n",
       "      <td>0</td>\n",
       "      <td>0</td>\n",
       "      <td>1</td>\n",
       "      <td>0</td>\n",
       "      <td>0</td>\n",
       "    </tr>\n",
       "    <tr>\n",
       "      <th>126</th>\n",
       "      <td>20390</td>\n",
       "      <td>8</td>\n",
       "      <td>36</td>\n",
       "      <td>31523</td>\n",
       "      <td>0</td>\n",
       "      <td>0</td>\n",
       "      <td>0</td>\n",
       "      <td>1</td>\n",
       "      <td>0</td>\n",
       "      <td>1</td>\n",
       "      <td>0</td>\n",
       "      <td>0</td>\n",
       "      <td>1</td>\n",
       "      <td>0</td>\n",
       "      <td>0</td>\n",
       "    </tr>\n",
       "    <tr>\n",
       "      <th>127</th>\n",
       "      <td>54678</td>\n",
       "      <td>6</td>\n",
       "      <td>53</td>\n",
       "      <td>57710</td>\n",
       "      <td>0</td>\n",
       "      <td>0</td>\n",
       "      <td>1</td>\n",
       "      <td>0</td>\n",
       "      <td>0</td>\n",
       "      <td>1</td>\n",
       "      <td>0</td>\n",
       "      <td>0</td>\n",
       "      <td>1</td>\n",
       "      <td>0</td>\n",
       "      <td>0</td>\n",
       "    </tr>\n",
       "  </tbody>\n",
       "</table>\n",
       "<p>128 rows × 15 columns</p>\n",
       "</div>"
      ],
      "text/plain": [
       "     principal_balance  loan_term  customer_age  customer_income  Collections  \\\n",
       "0                62868         15            38            38877            0   \n",
       "1                29152         13            46            13082            1   \n",
       "2                69370         13            51            49742            0   \n",
       "3                67059         14            22            50453            0   \n",
       "4                78181         13            59            26114            0   \n",
       "..                 ...        ...           ...              ...          ...   \n",
       "123              47660          8            43            45650            0   \n",
       "124              38488         13            53            19949            0   \n",
       "125               1222         14            50            20216            1   \n",
       "126              20390          8            36            31523            0   \n",
       "127              54678          6            53            57710            0   \n",
       "\n",
       "     Current  Late  Paid  F  M  Associates  Bachelor  High School  HighSchool  \\\n",
       "0          1     0     0  1  0           0         0            1           0   \n",
       "1          0     0     0  1  0           1         0            0           0   \n",
       "2          0     0     1  1  0           0         1            0           0   \n",
       "3          0     1     0  1  0           0         0            0           0   \n",
       "4          1     0     0  1  0           0         0            0           1   \n",
       "..       ...   ...   ... .. ..         ...       ...          ...         ...   \n",
       "123        0     1     0  1  0           0         0            1           0   \n",
       "124        1     0     0  1  0           0         0            1           0   \n",
       "125        0     0     0  1  0           0         0            1           0   \n",
       "126        0     0     1  0  1           0         0            1           0   \n",
       "127        0     1     0  0  1           0         0            1           0   \n",
       "\n",
       "     Masters  \n",
       "0          0  \n",
       "1          0  \n",
       "2          0  \n",
       "3          1  \n",
       "4          0  \n",
       "..       ...  \n",
       "123        0  \n",
       "124        0  \n",
       "125        0  \n",
       "126        0  \n",
       "127        0  \n",
       "\n",
       "[128 rows x 15 columns]"
      ]
     },
     "execution_count": 74,
     "metadata": {},
     "output_type": "execute_result"
    }
   ],
   "source": [
    "X = feature\n",
    "X"
   ]
  },
  {
   "cell_type": "code",
   "execution_count": 75,
   "metadata": {},
   "outputs": [
    {
     "data": {
      "text/plain": [
       "array(['Current', 'Collections', 'Paid', 'Late'], dtype=object)"
      ]
     },
     "execution_count": 75,
     "metadata": {},
     "output_type": "execute_result"
    }
   ],
   "source": [
    "y = df['loan_status'].values\n",
    "y[0:4]"
   ]
  },
  {
   "cell_type": "markdown",
   "metadata": {},
   "source": [
    "### Train / Test Split"
   ]
  },
  {
   "cell_type": "markdown",
   "metadata": {},
   "source": [
    "Partition the data into a train and test set for evaluation"
   ]
  },
  {
   "cell_type": "code",
   "execution_count": 76,
   "metadata": {},
   "outputs": [
    {
     "name": "stdout",
     "output_type": "stream",
     "text": [
      "Train set: (102, 15) (102,)\n",
      "Test set: (26, 15) (26,)\n"
     ]
    }
   ],
   "source": [
    "from sklearn.model_selection import train_test_split\n",
    "X_train, X_test, y_train, y_test = train_test_split( X, y, test_size=0.2, random_state=4)\n",
    "print ('Train set:', X_train.shape,  y_train.shape)\n",
    "print ('Test set:', X_test.shape,  y_test.shape)"
   ]
  },
  {
   "cell_type": "code",
   "execution_count": 77,
   "metadata": {},
   "outputs": [
    {
     "data": {
      "text/html": [
       "<div>\n",
       "<style scoped>\n",
       "    .dataframe tbody tr th:only-of-type {\n",
       "        vertical-align: middle;\n",
       "    }\n",
       "\n",
       "    .dataframe tbody tr th {\n",
       "        vertical-align: top;\n",
       "    }\n",
       "\n",
       "    .dataframe thead th {\n",
       "        text-align: right;\n",
       "    }\n",
       "</style>\n",
       "<table border=\"1\" class=\"dataframe\">\n",
       "  <thead>\n",
       "    <tr style=\"text-align: right;\">\n",
       "      <th></th>\n",
       "      <th>principal_balance</th>\n",
       "      <th>loan_term</th>\n",
       "      <th>customer_age</th>\n",
       "      <th>customer_income</th>\n",
       "      <th>Collections</th>\n",
       "      <th>Current</th>\n",
       "      <th>Late</th>\n",
       "      <th>Paid</th>\n",
       "      <th>F</th>\n",
       "      <th>M</th>\n",
       "      <th>Associates</th>\n",
       "      <th>Bachelor</th>\n",
       "      <th>High School</th>\n",
       "      <th>HighSchool</th>\n",
       "      <th>Masters</th>\n",
       "    </tr>\n",
       "  </thead>\n",
       "  <tbody>\n",
       "    <tr>\n",
       "      <th>92</th>\n",
       "      <td>79856</td>\n",
       "      <td>5</td>\n",
       "      <td>36</td>\n",
       "      <td>77359</td>\n",
       "      <td>0</td>\n",
       "      <td>1</td>\n",
       "      <td>0</td>\n",
       "      <td>0</td>\n",
       "      <td>1</td>\n",
       "      <td>0</td>\n",
       "      <td>0</td>\n",
       "      <td>0</td>\n",
       "      <td>0</td>\n",
       "      <td>0</td>\n",
       "      <td>1</td>\n",
       "    </tr>\n",
       "    <tr>\n",
       "      <th>10</th>\n",
       "      <td>59824</td>\n",
       "      <td>14</td>\n",
       "      <td>41</td>\n",
       "      <td>48784</td>\n",
       "      <td>0</td>\n",
       "      <td>0</td>\n",
       "      <td>0</td>\n",
       "      <td>1</td>\n",
       "      <td>1</td>\n",
       "      <td>0</td>\n",
       "      <td>0</td>\n",
       "      <td>1</td>\n",
       "      <td>0</td>\n",
       "      <td>0</td>\n",
       "      <td>0</td>\n",
       "    </tr>\n",
       "    <tr>\n",
       "      <th>116</th>\n",
       "      <td>14824</td>\n",
       "      <td>13</td>\n",
       "      <td>65</td>\n",
       "      <td>72354</td>\n",
       "      <td>0</td>\n",
       "      <td>1</td>\n",
       "      <td>0</td>\n",
       "      <td>0</td>\n",
       "      <td>1</td>\n",
       "      <td>0</td>\n",
       "      <td>0</td>\n",
       "      <td>0</td>\n",
       "      <td>1</td>\n",
       "      <td>0</td>\n",
       "      <td>0</td>\n",
       "    </tr>\n",
       "    <tr>\n",
       "      <th>13</th>\n",
       "      <td>46711</td>\n",
       "      <td>3</td>\n",
       "      <td>23</td>\n",
       "      <td>30678</td>\n",
       "      <td>1</td>\n",
       "      <td>0</td>\n",
       "      <td>0</td>\n",
       "      <td>0</td>\n",
       "      <td>1</td>\n",
       "      <td>0</td>\n",
       "      <td>1</td>\n",
       "      <td>0</td>\n",
       "      <td>0</td>\n",
       "      <td>0</td>\n",
       "      <td>0</td>\n",
       "    </tr>\n",
       "    <tr>\n",
       "      <th>15</th>\n",
       "      <td>23312</td>\n",
       "      <td>3</td>\n",
       "      <td>60</td>\n",
       "      <td>34113</td>\n",
       "      <td>0</td>\n",
       "      <td>0</td>\n",
       "      <td>1</td>\n",
       "      <td>0</td>\n",
       "      <td>1</td>\n",
       "      <td>0</td>\n",
       "      <td>1</td>\n",
       "      <td>0</td>\n",
       "      <td>0</td>\n",
       "      <td>0</td>\n",
       "      <td>0</td>\n",
       "    </tr>\n",
       "    <tr>\n",
       "      <th>...</th>\n",
       "      <td>...</td>\n",
       "      <td>...</td>\n",
       "      <td>...</td>\n",
       "      <td>...</td>\n",
       "      <td>...</td>\n",
       "      <td>...</td>\n",
       "      <td>...</td>\n",
       "      <td>...</td>\n",
       "      <td>...</td>\n",
       "      <td>...</td>\n",
       "      <td>...</td>\n",
       "      <td>...</td>\n",
       "      <td>...</td>\n",
       "      <td>...</td>\n",
       "      <td>...</td>\n",
       "    </tr>\n",
       "    <tr>\n",
       "      <th>1</th>\n",
       "      <td>29152</td>\n",
       "      <td>13</td>\n",
       "      <td>46</td>\n",
       "      <td>13082</td>\n",
       "      <td>1</td>\n",
       "      <td>0</td>\n",
       "      <td>0</td>\n",
       "      <td>0</td>\n",
       "      <td>1</td>\n",
       "      <td>0</td>\n",
       "      <td>1</td>\n",
       "      <td>0</td>\n",
       "      <td>0</td>\n",
       "      <td>0</td>\n",
       "      <td>0</td>\n",
       "    </tr>\n",
       "    <tr>\n",
       "      <th>69</th>\n",
       "      <td>37760</td>\n",
       "      <td>5</td>\n",
       "      <td>54</td>\n",
       "      <td>66644</td>\n",
       "      <td>1</td>\n",
       "      <td>0</td>\n",
       "      <td>0</td>\n",
       "      <td>0</td>\n",
       "      <td>1</td>\n",
       "      <td>0</td>\n",
       "      <td>0</td>\n",
       "      <td>1</td>\n",
       "      <td>0</td>\n",
       "      <td>0</td>\n",
       "      <td>0</td>\n",
       "    </tr>\n",
       "    <tr>\n",
       "      <th>55</th>\n",
       "      <td>39880</td>\n",
       "      <td>11</td>\n",
       "      <td>37</td>\n",
       "      <td>70074</td>\n",
       "      <td>0</td>\n",
       "      <td>0</td>\n",
       "      <td>1</td>\n",
       "      <td>0</td>\n",
       "      <td>1</td>\n",
       "      <td>0</td>\n",
       "      <td>1</td>\n",
       "      <td>0</td>\n",
       "      <td>0</td>\n",
       "      <td>0</td>\n",
       "      <td>0</td>\n",
       "    </tr>\n",
       "    <tr>\n",
       "      <th>46</th>\n",
       "      <td>55291</td>\n",
       "      <td>3</td>\n",
       "      <td>63</td>\n",
       "      <td>10279</td>\n",
       "      <td>0</td>\n",
       "      <td>0</td>\n",
       "      <td>0</td>\n",
       "      <td>1</td>\n",
       "      <td>0</td>\n",
       "      <td>1</td>\n",
       "      <td>0</td>\n",
       "      <td>0</td>\n",
       "      <td>1</td>\n",
       "      <td>0</td>\n",
       "      <td>0</td>\n",
       "    </tr>\n",
       "    <tr>\n",
       "      <th>122</th>\n",
       "      <td>17833</td>\n",
       "      <td>9</td>\n",
       "      <td>44</td>\n",
       "      <td>62976</td>\n",
       "      <td>0</td>\n",
       "      <td>0</td>\n",
       "      <td>0</td>\n",
       "      <td>1</td>\n",
       "      <td>0</td>\n",
       "      <td>1</td>\n",
       "      <td>0</td>\n",
       "      <td>0</td>\n",
       "      <td>1</td>\n",
       "      <td>0</td>\n",
       "      <td>0</td>\n",
       "    </tr>\n",
       "  </tbody>\n",
       "</table>\n",
       "<p>102 rows × 15 columns</p>\n",
       "</div>"
      ],
      "text/plain": [
       "     principal_balance  loan_term  customer_age  customer_income  Collections  \\\n",
       "92               79856          5            36            77359            0   \n",
       "10               59824         14            41            48784            0   \n",
       "116              14824         13            65            72354            0   \n",
       "13               46711          3            23            30678            1   \n",
       "15               23312          3            60            34113            0   \n",
       "..                 ...        ...           ...              ...          ...   \n",
       "1                29152         13            46            13082            1   \n",
       "69               37760          5            54            66644            1   \n",
       "55               39880         11            37            70074            0   \n",
       "46               55291          3            63            10279            0   \n",
       "122              17833          9            44            62976            0   \n",
       "\n",
       "     Current  Late  Paid  F  M  Associates  Bachelor  High School  HighSchool  \\\n",
       "92         1     0     0  1  0           0         0            0           0   \n",
       "10         0     0     1  1  0           0         1            0           0   \n",
       "116        1     0     0  1  0           0         0            1           0   \n",
       "13         0     0     0  1  0           1         0            0           0   \n",
       "15         0     1     0  1  0           1         0            0           0   \n",
       "..       ...   ...   ... .. ..         ...       ...          ...         ...   \n",
       "1          0     0     0  1  0           1         0            0           0   \n",
       "69         0     0     0  1  0           0         1            0           0   \n",
       "55         0     1     0  1  0           1         0            0           0   \n",
       "46         0     0     1  0  1           0         0            1           0   \n",
       "122        0     0     1  0  1           0         0            1           0   \n",
       "\n",
       "     Masters  \n",
       "92         1  \n",
       "10         0  \n",
       "116        0  \n",
       "13         0  \n",
       "15         0  \n",
       "..       ...  \n",
       "1          0  \n",
       "69         0  \n",
       "55         0  \n",
       "46         0  \n",
       "122        0  \n",
       "\n",
       "[102 rows x 15 columns]"
      ]
     },
     "execution_count": 77,
     "metadata": {},
     "output_type": "execute_result"
    }
   ],
   "source": [
    "X_train"
   ]
  },
  {
   "cell_type": "markdown",
   "metadata": {},
   "source": [
    "### Normalize data and Scale"
   ]
  },
  {
   "cell_type": "code",
   "execution_count": 78,
   "metadata": {},
   "outputs": [],
   "source": [
    "from sklearn.preprocessing import StandardScaler\n",
    "sc = StandardScaler()\n",
    "X_train = sc.fit_transform(X_train)\n",
    "X_test = sc.transform(X_test)"
   ]
  },
  {
   "cell_type": "code",
   "execution_count": 86,
   "metadata": {},
   "outputs": [
    {
     "name": "stdout",
     "output_type": "stream",
     "text": [
      "X_train values: [[ 1.68898891 -0.87566673 -0.64001092  0.83540439 -0.6         1.75499288\n",
      "  -0.6        -0.5395732   0.5395732  -0.5395732  -0.31108551 -0.5395732\n",
      "  -0.87098834 -0.38218767  2.61651559]\n",
      " [ 0.77162996  1.5311059  -0.26654917 -0.25475357 -0.6        -0.56980288\n",
      "  -0.6         1.85331665  0.5395732  -0.5395732  -0.31108551  1.85331665\n",
      "  -0.87098834 -0.38218767 -0.38218767]\n",
      " [-1.28913045  1.26368672  1.52606723  0.64445984 -0.6         1.75499288\n",
      "  -0.6        -0.5395732   0.5395732  -0.5395732  -0.31108551 -0.5395732\n",
      "   1.14812099 -0.38218767 -0.38218767]]\n",
      "X_test values: [[-0.60083647  0.19400999  0.55506668 -0.34204251  1.66666667 -0.56980288\n",
      "  -0.6        -0.5395732  -1.85331665  1.85331665  3.21455025 -0.5395732\n",
      "  -0.87098834 -0.38218767 -0.38218767]\n",
      " [-1.78036994 -0.34082837  1.52606723  1.1823474  -0.6         1.75499288\n",
      "  -0.6        -0.5395732   0.5395732  -0.5395732   3.21455025 -0.5395732\n",
      "  -0.87098834 -0.38218767 -0.38218767]\n",
      " [ 0.82310318  0.46142918 -1.46162677  1.51769258  1.66666667 -0.56980288\n",
      "  -0.6        -0.5395732   0.5395732  -0.5395732  -0.31108551 -0.5395732\n",
      "   1.14812099 -0.38218767 -0.38218767]]\n"
     ]
    }
   ],
   "source": [
    "print(\"X_train values:\", X_train[0:3])\n",
    "print(\"X_test values:\", X_test[0:3])"
   ]
  },
  {
   "cell_type": "markdown",
   "metadata": {},
   "source": [
    "Observation: data has scaled and is ready for Classification"
   ]
  },
  {
   "cell_type": "markdown",
   "metadata": {},
   "source": [
    "### Classification using K nearest neighbor (KNN)"
   ]
  },
  {
   "cell_type": "markdown",
   "metadata": {},
   "source": [
    "Import Classifier from sklearn.neighbors"
   ]
  },
  {
   "cell_type": "code",
   "execution_count": 87,
   "metadata": {},
   "outputs": [],
   "source": [
    "from sklearn.neighbors import KNeighborsClassifier"
   ]
  },
  {
   "cell_type": "markdown",
   "metadata": {},
   "source": [
    "### Train Model using cluster param (k=)"
   ]
  },
  {
   "cell_type": "code",
   "execution_count": 96,
   "metadata": {},
   "outputs": [
    {
     "data": {
      "text/plain": [
       "KNeighborsClassifier(algorithm='auto', leaf_size=30, metric='minkowski',\n",
       "                     metric_params=None, n_jobs=None, n_neighbors=3, p=2,\n",
       "                     weights='uniform')"
      ]
     },
     "execution_count": 96,
     "metadata": {},
     "output_type": "execute_result"
    }
   ],
   "source": [
    "k = 3\n",
    "#Train Model and Predict  \n",
    "neigh = KNeighborsClassifier(n_neighbors = k).fit(X_train,y_train)\n",
    "neigh"
   ]
  },
  {
   "cell_type": "markdown",
   "metadata": {},
   "source": [
    "### Predict Model"
   ]
  },
  {
   "cell_type": "code",
   "execution_count": 97,
   "metadata": {},
   "outputs": [
    {
     "data": {
      "text/plain": [
       "array(['Collections', 'Current', 'Collections', 'Collections'],\n",
       "      dtype=object)"
      ]
     },
     "execution_count": 97,
     "metadata": {},
     "output_type": "execute_result"
    }
   ],
   "source": [
    "yhat = neigh.predict(X_test)\n",
    "yhat[0:4]"
   ]
  },
  {
   "cell_type": "markdown",
   "metadata": {},
   "source": [
    "### Evaluate Accuracy"
   ]
  },
  {
   "cell_type": "markdown",
   "metadata": {},
   "source": [
    "Calculate model accuracy using train and test set to determine how closely the real labels and predicted labels match."
   ]
  },
  {
   "cell_type": "code",
   "execution_count": 105,
   "metadata": {},
   "outputs": [
    {
     "name": "stdout",
     "output_type": "stream",
     "text": [
      "Train set Accuracy:  0.9901960784313726\n",
      "Test set Accuracy:  1.0\n"
     ]
    }
   ],
   "source": [
    "from sklearn import metrics\n",
    "print(\"Train set Accuracy: \", metrics.accuracy_score(y_train, neigh.predict(X_train)))\n",
    "print(\"Test set Accuracy: \", metrics.accuracy_score(y_test, yhat))"
   ]
  },
  {
   "cell_type": "markdown",
   "metadata": {},
   "source": [
    "Observation: initial accuracy reflects high model accuracy."
   ]
  },
  {
   "cell_type": "markdown",
   "metadata": {},
   "source": [
    "Modify cluster grouping value (Ks=) to evalute if alternate cluster values define a better fit using a for loop to iterate through cluster values starting with 10 and decreasing.  "
   ]
  },
  {
   "cell_type": "code",
   "execution_count": 101,
   "metadata": {},
   "outputs": [
    {
     "name": "stdout",
     "output_type": "stream",
     "text": [
      "Mean Accuracy:  [0.92307692 0.84615385 0.88461538 0.84615385 0.88461538 0.88461538\n",
      " 0.92307692 0.96153846 1.        ]\n"
     ]
    }
   ],
   "source": [
    "Ks = 10\n",
    "mean_accuracy = np.zeros((Ks-1))\n",
    "std_accuracy = np.zeros((Ks-1))\n",
    "ConfusionMatrixx = [];\n",
    "for n in range(1,Ks):\n",
    "    \n",
    "    #Train Model and Predict  \n",
    "    neigh = KNeighborsClassifier(n_neighbors = n).fit(X_train,y_train)\n",
    "    yhat=neigh.predict(X_test)\n",
    "    mean_accuracy[n-1] = metrics.accuracy_score(y_test, yhat)\n",
    "    std_accuracy[n-1]=np.std(yhat==y_test)/np.sqrt(yhat.shape[0])\n",
    "\n",
    "print(\"Mean Accuracy: \", mean_accuracy)"
   ]
  },
  {
   "cell_type": "code",
   "execution_count": 104,
   "metadata": {},
   "outputs": [
    {
     "data": {
      "image/png": "[encoded data removed]",
      "text/plain": [
       "<Figure size 432x288 with 1 Axes>"
      ]
     },
     "metadata": {
      "needs_background": "light"
     },
     "output_type": "display_data"
    }
   ],
   "source": [
    "plt.plot(range(1,Ks),mean_accuracy,'g')\n",
    "plt.fill_between(range(1,Ks),mean_accuracy - 1 * std_accuracy,mean_accuracy + 1 * std_accuracy, alpha=0.10)\n",
    "plt.legend(('Accuracy ', '+/- 3xstd'))\n",
    "plt.ylabel('Accuracy ')\n",
    "plt.xlabel('Number of Nabors (K)')\n",
    "plt.tight_layout()\n",
    "plt.show()"
   ]
  },
  {
   "cell_type": "markdown",
   "metadata": {},
   "source": [
    "### Testing Result"
   ]
  },
  {
   "cell_type": "markdown",
   "metadata": {},
   "source": [
    "Observation: The model was able to obtain 100% accuracy which is an indicator of overfitting due to the limited dataset size. Increasing the dataset size would allow us to generate a model that more closely resembles a better fitting model. "
   ]
  }
 ],
 "metadata": {
  "kernelspec": {
   "display_name": "Python 3",
   "language": "python",
   "name": "python3"
  },
  "language_info": {
   "codemirror_mode": {
    "name": "ipython",
    "version": 3
   },
   "file_extension": ".py",
   "mimetype": "text/x-python",
   "name": "python",
   "nbconvert_exporter": "python",
   "pygments_lexer": "ipython3",
   "version": "3.7.6"
  }
 },
 "nbformat": 4,
 "nbformat_minor": 2
}

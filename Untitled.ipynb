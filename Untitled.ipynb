{
 "cells": [
  {
   "cell_type": "markdown",
   "metadata": {},
   "source": [
    "# Sentiment Analysis"
   ]
  },
  {
   "cell_type": "code",
   "execution_count": null,
   "metadata": {},
   "outputs": [],
   "source": [
    "# Analysis Expectations\n",
    "# Polarity = Polarity lies in the range of [-1,1] where 1 means a positive statement and -1 means a negative statement.\n",
    "# Subjectivity = Subjectivity refers that mostly it is a public opinion and not factual information [0,1]."
   ]
  },
  {
   "cell_type": "code",
   "execution_count": 2,
   "metadata": {},
   "outputs": [],
   "source": [
    "import re\n",
    "import nltk\n",
    "from textblob import TextBlob\n",
    "from nltk.corpus import stopwords\n",
    "from nltk.stem import PorterStemmer\n",
    "from textblob import Word\n",
    "from nltk.util import ngrams\n",
    "import re\n",
    "from wordcloud import WordCloud, STOPWORDS\n",
    "from nltk.tokenize import word_tokenize"
   ]
  },
  {
   "cell_type": "code",
   "execution_count": 47,
   "metadata": {},
   "outputs": [
    {
     "data": {
      "text/plain": [
       "str"
      ]
     },
     "execution_count": 47,
     "metadata": {},
     "output_type": "execute_result"
    }
   ],
   "source": [
    "# Dataset creation\n",
    "review = \"I like this phone. screen quality and camera clarity is really good.\"\n",
    "review2 = \"This tv is not good. Bad quality, no clarity, worst experience\"\n",
    "type(review)"
   ]
  },
  {
   "cell_type": "code",
   "execution_count": 52,
   "metadata": {},
   "outputs": [],
   "source": [
    "\"\"\"\n",
    "def data_cleanse(text):\n",
    "    #words = text.split()\n",
    "    newWords= []\n",
    "    for word in text:\n",
    "        word = text.lower()\n",
    "        word = re.sub(r'(\\\\u[0-9A-Fa-f]+)',' ', text)\n",
    "        #word = re.sub(r'(\\\\u[0-9A-Fa-f]+)',r, word)\n",
    "        #Removes unicode strings like \"\\u002c\" and \"x96\"\n",
    "        word = re.sub(r'(\\\\u[0-9A-Fa-f]+)',' ', text)\n",
    "        word = re.sub(r'[^\\x00-\\x7f]',\" \",text)\n",
    "        #convert any url to URL\n",
    "        #word = re.sub('((www\\.[^\\s]+)|(https?://[^\\s]+))','URL',text)\n",
    "        #Convert any @Username to \"AT_USER\"\n",
    "        word = re.sub('@[^\\s]+','AT_USER',text)\n",
    "        #Remove additional white spaces\n",
    "        word = re.sub('[\\s]+', ' ', text)\n",
    "        word = re.sub('[\\n]+', ' ', text)\n",
    "        #Remove not alphanumeric symbols white spaces\n",
    "        word = re.sub(r'[^\\w]', ' ', text)\n",
    "        #Removes hastag in front of a word\n",
    "        word = re.sub(r'#([^\\s]+)', r'\\1', text)\n",
    "        #Replace #word with word\n",
    "        word = re.sub(r'#([^\\s]+)', r'\\1', text)\n",
    "        #Remove :( or :) \n",
    "        #word = text.replace(':)',' ', text)\n",
    "        #word = text.replace(':(',' ', text)\n",
    "        #remove numbers\n",
    "        word = re.sub(r'[0-9]', ' ', text)\n",
    "        #word = \".join([i for i in text if not i.isdigit()])\n",
    "        #remove multiple exclamation\n",
    "        word = re.sub(r\"(\\!)\\1+\", ' ', text)\n",
    "        #remove multiple question marks\n",
    "        word = re.sub(r\"(\\?)\\1+\", ' ', text)\n",
    "        #remove multistop\n",
    "        word = re.sub(r\"(\\.)\\1+\", ' ', text)\n",
    "        #Removes emoticons from text\n",
    "        word = re.sub(r':\\)|;\\)|:-\\)|\\(-:|:-D|=D|:P|xD|X-p|\\^\\^|:-*|\\^\\.\\^|\\^\\-\\^|\\^\\_\\^|\\,-\\)|\\)-:|:\\'\\(|:\\(|:-\\(|:\\S|T\\.T|\\.\\_\\.|:<|:-\\S|:-<|\\*\\-\\*|:O|=O|=\\-O|O\\.o|XO|O\\_O|:-\\@|=/|:/|X\\-\\(|>\\.<|>=\\(|D:', ' ', text)\n",
    "        #trim\n",
    "        word = text.strip('\\', ' '')\n",
    "    \n",
    "    return word\n",
    "\"\"\""
   ]
  },
  {
   "cell_type": "code",
   "execution_count": 70,
   "metadata": {},
   "outputs": [],
   "source": [
    "def data_cleanse(text):\n",
    "    text = re.sub(r\"[^A-Za-z0-9(),!?\\'\\`]+\", \" \", text)\n",
    "    text = text.lower()\n",
    "    text = re.sub(r'[^\\w\\s]',' ', text)\n",
    "    text = nltk.word_tokenize(text)\n",
    "    \n",
    "    return text"
   ]
  },
  {
   "cell_type": "code",
   "execution_count": 71,
   "metadata": {},
   "outputs": [
    {
     "data": {
      "text/plain": [
       "['i',\n",
       " 'like',\n",
       " 'this',\n",
       " 'phone',\n",
       " 'screen',\n",
       " 'quality',\n",
       " 'and',\n",
       " 'camera',\n",
       " 'clarity',\n",
       " 'is',\n",
       " 'really',\n",
       " 'good']"
      ]
     },
     "execution_count": 71,
     "metadata": {},
     "output_type": "execute_result"
    }
   ],
   "source": [
    "data_cleanse(review)"
   ]
  },
  {
   "cell_type": "markdown",
   "metadata": {},
   "source": [
    "# Sentiment Scoring"
   ]
  },
  {
   "cell_type": "code",
   "execution_count": 72,
   "metadata": {},
   "outputs": [
    {
     "data": {
      "text/plain": [
       "Sentiment(polarity=0.7, subjectivity=0.6000000000000001)"
      ]
     },
     "execution_count": 72,
     "metadata": {},
     "output_type": "execute_result"
    }
   ],
   "source": [
    "#Use TextBlob pre-trained Sentiment Prediction Model\n",
    "blob = TextBlob(review)\n",
    "blob.sentiment"
   ]
  },
  {
   "cell_type": "code",
   "execution_count": null,
   "metadata": {},
   "outputs": [],
   "source": []
  },
  {
   "cell_type": "code",
   "execution_count": null,
   "metadata": {},
   "outputs": [],
   "source": []
  },
  {
   "cell_type": "code",
   "execution_count": null,
   "metadata": {},
   "outputs": [],
   "source": []
  }
 ],
 "metadata": {
  "kernelspec": {
   "display_name": "Python 3",
   "language": "python",
   "name": "python3"
  },
  "language_info": {
   "codemirror_mode": {
    "name": "ipython",
    "version": 3
   },
   "file_extension": ".py",
   "mimetype": "text/x-python",
   "name": "python",
   "nbconvert_exporter": "python",
   "pygments_lexer": "ipython3",
   "version": "3.7.6"
  }
 },
 "nbformat": 4,
 "nbformat_minor": 2
}

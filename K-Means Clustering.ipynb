{
 "cells": [
  {
   "cell_type": "code",
   "execution_count": 1,
   "id": "d4396a93",
   "metadata": {},
   "outputs": [
    {
     "name": "stdout",
     "output_type": "stream",
     "text": [
      "Looking in indexes: https://pypi.org/simple, https://pip.repos.neuron.amazonaws.com\n",
      "Collecting mxnet\n",
      "  Downloading mxnet-1.9.1-py3-none-manylinux2014_x86_64.whl (49.1 MB)\n",
      "\u001b[2K     \u001b[90m━━━━━━━━━━━━━━━━━━━━━━━━━━━━━━━━━━━━━━━━\u001b[0m \u001b[32m49.1/49.1 MB\u001b[0m \u001b[31m14.6 MB/s\u001b[0m eta \u001b[36m0:00:00\u001b[0m00:01\u001b[0m00:01\u001b[0m\n",
      "\u001b[?25hRequirement already satisfied: numpy<2.0.0,>1.16.0 in /home/ec2-user/anaconda3/envs/python3/lib/python3.8/site-packages (from mxnet) (1.20.3)\n",
      "Requirement already satisfied: requests<3,>=2.20.0 in /home/ec2-user/anaconda3/envs/python3/lib/python3.8/site-packages (from mxnet) (2.26.0)\n",
      "Collecting graphviz<0.9.0,>=0.8.1\n",
      "  Downloading graphviz-0.8.4-py2.py3-none-any.whl (16 kB)\n",
      "Requirement already satisfied: urllib3<1.27,>=1.21.1 in /home/ec2-user/anaconda3/envs/python3/lib/python3.8/site-packages (from requests<3,>=2.20.0->mxnet) (1.26.8)\n",
      "Requirement already satisfied: charset-normalizer~=2.0.0 in /home/ec2-user/anaconda3/envs/python3/lib/python3.8/site-packages (from requests<3,>=2.20.0->mxnet) (2.0.8)\n",
      "Requirement already satisfied: certifi>=2017.4.17 in /home/ec2-user/anaconda3/envs/python3/lib/python3.8/site-packages (from requests<3,>=2.20.0->mxnet) (2021.10.8)\n",
      "Requirement already satisfied: idna<4,>=2.5 in /home/ec2-user/anaconda3/envs/python3/lib/python3.8/site-packages (from requests<3,>=2.20.0->mxnet) (3.1)\n",
      "Installing collected packages: graphviz, mxnet\n",
      "Successfully installed graphviz-0.8.4 mxnet-1.9.1\n",
      "\u001b[33mWARNING: You are using pip version 22.0.4; however, version 22.2.2 is available.\n",
      "You should consider upgrading via the '/home/ec2-user/anaconda3/envs/python3/bin/python -m pip install --upgrade pip' command.\u001b[0m\u001b[33m\n",
      "\u001b[0m"
     ]
    }
   ],
   "source": [
    "import os \n",
    "import boto3\n",
    "import io\n",
    "import sagemaker\n",
    "\n",
    "%matplotlib inline\n",
    "\n",
    "import pandas as pd\n",
    "import numpy as np\n",
    "!pip install mxnet\n",
    "import mxnet as mx\n",
    "import matplotlib.pyplot as plt\n",
    "import matplotlib\n",
    "matplotlib.style.use('ggplot')\n",
    "import pickle, gzip, urllib, json\n",
    "import csv\n",
    "from sagemaker import get_execution_role\n",
    "role = get_execution_role()\n",
    "s3 = boto3.resource('s3')\n"
   ]
  },
  {
   "cell_type": "code",
   "execution_count": 2,
   "id": "0e6f1efa",
   "metadata": {},
   "outputs": [
    {
     "data": {
      "text/html": [
       "<div>\n",
       "<style scoped>\n",
       "    .dataframe tbody tr th:only-of-type {\n",
       "        vertical-align: middle;\n",
       "    }\n",
       "\n",
       "    .dataframe tbody tr th {\n",
       "        vertical-align: top;\n",
       "    }\n",
       "\n",
       "    .dataframe thead th {\n",
       "        text-align: right;\n",
       "    }\n",
       "</style>\n",
       "<table border=\"1\" class=\"dataframe\">\n",
       "  <thead>\n",
       "    <tr style=\"text-align: right;\">\n",
       "      <th></th>\n",
       "      <th>ID</th>\n",
       "      <th>Reason for absence</th>\n",
       "      <th>Month of absence</th>\n",
       "      <th>Day of the week</th>\n",
       "      <th>Seasons</th>\n",
       "      <th>Transportation expense</th>\n",
       "      <th>Distance from Residence to Work</th>\n",
       "      <th>Service time</th>\n",
       "      <th>Age</th>\n",
       "      <th>Work load Average/day</th>\n",
       "      <th>...</th>\n",
       "      <th>Disciplinary failure</th>\n",
       "      <th>Education</th>\n",
       "      <th>Son</th>\n",
       "      <th>Social drinker</th>\n",
       "      <th>Social smoker</th>\n",
       "      <th>Pet</th>\n",
       "      <th>Weight</th>\n",
       "      <th>Height</th>\n",
       "      <th>Body mass index</th>\n",
       "      <th>Absenteeism time in hours</th>\n",
       "    </tr>\n",
       "  </thead>\n",
       "  <tbody>\n",
       "    <tr>\n",
       "      <th>0</th>\n",
       "      <td>11</td>\n",
       "      <td>26</td>\n",
       "      <td>7</td>\n",
       "      <td>3</td>\n",
       "      <td>1</td>\n",
       "      <td>289</td>\n",
       "      <td>36</td>\n",
       "      <td>13</td>\n",
       "      <td>33</td>\n",
       "      <td>239.554</td>\n",
       "      <td>...</td>\n",
       "      <td>0</td>\n",
       "      <td>1</td>\n",
       "      <td>2</td>\n",
       "      <td>1</td>\n",
       "      <td>0</td>\n",
       "      <td>1</td>\n",
       "      <td>90</td>\n",
       "      <td>172</td>\n",
       "      <td>30</td>\n",
       "      <td>4</td>\n",
       "    </tr>\n",
       "    <tr>\n",
       "      <th>1</th>\n",
       "      <td>36</td>\n",
       "      <td>0</td>\n",
       "      <td>7</td>\n",
       "      <td>3</td>\n",
       "      <td>1</td>\n",
       "      <td>118</td>\n",
       "      <td>13</td>\n",
       "      <td>18</td>\n",
       "      <td>50</td>\n",
       "      <td>239.554</td>\n",
       "      <td>...</td>\n",
       "      <td>1</td>\n",
       "      <td>1</td>\n",
       "      <td>1</td>\n",
       "      <td>1</td>\n",
       "      <td>0</td>\n",
       "      <td>0</td>\n",
       "      <td>98</td>\n",
       "      <td>178</td>\n",
       "      <td>31</td>\n",
       "      <td>0</td>\n",
       "    </tr>\n",
       "    <tr>\n",
       "      <th>2</th>\n",
       "      <td>3</td>\n",
       "      <td>23</td>\n",
       "      <td>7</td>\n",
       "      <td>4</td>\n",
       "      <td>1</td>\n",
       "      <td>179</td>\n",
       "      <td>51</td>\n",
       "      <td>18</td>\n",
       "      <td>38</td>\n",
       "      <td>239.554</td>\n",
       "      <td>...</td>\n",
       "      <td>0</td>\n",
       "      <td>1</td>\n",
       "      <td>0</td>\n",
       "      <td>1</td>\n",
       "      <td>0</td>\n",
       "      <td>0</td>\n",
       "      <td>89</td>\n",
       "      <td>170</td>\n",
       "      <td>31</td>\n",
       "      <td>2</td>\n",
       "    </tr>\n",
       "    <tr>\n",
       "      <th>3</th>\n",
       "      <td>7</td>\n",
       "      <td>7</td>\n",
       "      <td>7</td>\n",
       "      <td>5</td>\n",
       "      <td>1</td>\n",
       "      <td>279</td>\n",
       "      <td>5</td>\n",
       "      <td>14</td>\n",
       "      <td>39</td>\n",
       "      <td>239.554</td>\n",
       "      <td>...</td>\n",
       "      <td>0</td>\n",
       "      <td>1</td>\n",
       "      <td>2</td>\n",
       "      <td>1</td>\n",
       "      <td>1</td>\n",
       "      <td>0</td>\n",
       "      <td>68</td>\n",
       "      <td>168</td>\n",
       "      <td>24</td>\n",
       "      <td>4</td>\n",
       "    </tr>\n",
       "    <tr>\n",
       "      <th>4</th>\n",
       "      <td>11</td>\n",
       "      <td>23</td>\n",
       "      <td>7</td>\n",
       "      <td>5</td>\n",
       "      <td>1</td>\n",
       "      <td>289</td>\n",
       "      <td>36</td>\n",
       "      <td>13</td>\n",
       "      <td>33</td>\n",
       "      <td>239.554</td>\n",
       "      <td>...</td>\n",
       "      <td>0</td>\n",
       "      <td>1</td>\n",
       "      <td>2</td>\n",
       "      <td>1</td>\n",
       "      <td>0</td>\n",
       "      <td>1</td>\n",
       "      <td>90</td>\n",
       "      <td>172</td>\n",
       "      <td>30</td>\n",
       "      <td>2</td>\n",
       "    </tr>\n",
       "  </tbody>\n",
       "</table>\n",
       "<p>5 rows × 21 columns</p>\n",
       "</div>"
      ],
      "text/plain": [
       "   ID  Reason for absence  Month of absence  Day of the week  Seasons  \\\n",
       "0  11                  26                 7                3        1   \n",
       "1  36                   0                 7                3        1   \n",
       "2   3                  23                 7                4        1   \n",
       "3   7                   7                 7                5        1   \n",
       "4  11                  23                 7                5        1   \n",
       "\n",
       "   Transportation expense  Distance from Residence to Work  Service time  Age  \\\n",
       "0                     289                               36            13   33   \n",
       "1                     118                               13            18   50   \n",
       "2                     179                               51            18   38   \n",
       "3                     279                                5            14   39   \n",
       "4                     289                               36            13   33   \n",
       "\n",
       "   Work load Average/day   ...  Disciplinary failure  Education  Son  \\\n",
       "0                 239.554  ...                     0          1    2   \n",
       "1                 239.554  ...                     1          1    1   \n",
       "2                 239.554  ...                     0          1    0   \n",
       "3                 239.554  ...                     0          1    2   \n",
       "4                 239.554  ...                     0          1    2   \n",
       "\n",
       "   Social drinker  Social smoker  Pet  Weight  Height  Body mass index  \\\n",
       "0               1              0    1      90     172               30   \n",
       "1               1              0    0      98     178               31   \n",
       "2               1              0    0      89     170               31   \n",
       "3               1              1    0      68     168               24   \n",
       "4               1              0    1      90     172               30   \n",
       "\n",
       "   Absenteeism time in hours  \n",
       "0                          4  \n",
       "1                          0  \n",
       "2                          2  \n",
       "3                          4  \n",
       "4                          2  \n",
       "\n",
       "[5 rows x 21 columns]"
      ]
     },
     "execution_count": 2,
     "metadata": {},
     "output_type": "execute_result"
    }
   ],
   "source": [
    "#Load Data\n",
    "bucket_name = 'sg-ml-bucket-02'\n",
    "object_key = 'Absenteeism_at_work.csv'\n",
    "s3_client = boto3.client('s3')\n",
    "response = s3_client.get_object(Bucket=bucket_name, Key=object_key)\n",
    "response_body = response[\"Body\"].read()\n",
    "absence = pd.read_csv(io.BytesIO(response_body), header=0, delimiter=\",\", low_memory=False)\n",
    "absence.head()"
   ]
  },
  {
   "cell_type": "code",
   "execution_count": 3,
   "id": "440733ce",
   "metadata": {},
   "outputs": [],
   "source": [
    "# Drop the ID Column\n",
    "absence = absence.drop(['ID'], axis=1)"
   ]
  },
  {
   "cell_type": "code",
   "execution_count": 4,
   "id": "bd59e584",
   "metadata": {},
   "outputs": [
    {
     "data": {
      "text/plain": [
       "(740, 20)"
      ]
     },
     "execution_count": 4,
     "metadata": {},
     "output_type": "execute_result"
    }
   ],
   "source": [
    "absence.shape"
   ]
  },
  {
   "cell_type": "code",
   "execution_count": 5,
   "id": "5e41d02d",
   "metadata": {},
   "outputs": [
    {
     "data": {
      "text/plain": [
       "(740, 20)"
      ]
     },
     "execution_count": 5,
     "metadata": {},
     "output_type": "execute_result"
    }
   ],
   "source": [
    "#EDA Drop any missing values obs\n",
    "absence.dropna(inplace=True)\n",
    "absence.shape"
   ]
  },
  {
   "cell_type": "code",
   "execution_count": 6,
   "id": "bce81f16",
   "metadata": {},
   "outputs": [
    {
     "data": {
      "text/html": [
       "<div>\n",
       "<style scoped>\n",
       "    .dataframe tbody tr th:only-of-type {\n",
       "        vertical-align: middle;\n",
       "    }\n",
       "\n",
       "    .dataframe tbody tr th {\n",
       "        vertical-align: top;\n",
       "    }\n",
       "\n",
       "    .dataframe thead th {\n",
       "        text-align: right;\n",
       "    }\n",
       "</style>\n",
       "<table border=\"1\" class=\"dataframe\">\n",
       "  <thead>\n",
       "    <tr style=\"text-align: right;\">\n",
       "      <th></th>\n",
       "      <th>Reason for absence</th>\n",
       "      <th>Month of absence</th>\n",
       "      <th>Day of the week</th>\n",
       "      <th>Seasons</th>\n",
       "      <th>Transportation expense</th>\n",
       "      <th>Distance from Residence to Work</th>\n",
       "      <th>Service time</th>\n",
       "      <th>Age</th>\n",
       "      <th>Work load Average/day</th>\n",
       "      <th>Hit target</th>\n",
       "      <th>Disciplinary failure</th>\n",
       "      <th>Education</th>\n",
       "      <th>Son</th>\n",
       "      <th>Social drinker</th>\n",
       "      <th>Social smoker</th>\n",
       "      <th>Pet</th>\n",
       "      <th>Weight</th>\n",
       "      <th>Height</th>\n",
       "      <th>Body mass index</th>\n",
       "      <th>Absenteeism time in hours</th>\n",
       "    </tr>\n",
       "    <tr>\n",
       "      <th>Reason for absence</th>\n",
       "      <th></th>\n",
       "      <th></th>\n",
       "      <th></th>\n",
       "      <th></th>\n",
       "      <th></th>\n",
       "      <th></th>\n",
       "      <th></th>\n",
       "      <th></th>\n",
       "      <th></th>\n",
       "      <th></th>\n",
       "      <th></th>\n",
       "      <th></th>\n",
       "      <th></th>\n",
       "      <th></th>\n",
       "      <th></th>\n",
       "      <th></th>\n",
       "      <th></th>\n",
       "      <th></th>\n",
       "      <th></th>\n",
       "      <th></th>\n",
       "    </tr>\n",
       "  </thead>\n",
       "  <tbody>\n",
       "    <tr>\n",
       "      <th>26</th>\n",
       "      <td>26</td>\n",
       "      <td>7</td>\n",
       "      <td>3</td>\n",
       "      <td>1</td>\n",
       "      <td>289</td>\n",
       "      <td>36</td>\n",
       "      <td>13</td>\n",
       "      <td>33</td>\n",
       "      <td>239.554</td>\n",
       "      <td>97</td>\n",
       "      <td>0</td>\n",
       "      <td>1</td>\n",
       "      <td>2</td>\n",
       "      <td>1</td>\n",
       "      <td>0</td>\n",
       "      <td>1</td>\n",
       "      <td>90</td>\n",
       "      <td>172</td>\n",
       "      <td>30</td>\n",
       "      <td>4</td>\n",
       "    </tr>\n",
       "    <tr>\n",
       "      <th>0</th>\n",
       "      <td>0</td>\n",
       "      <td>7</td>\n",
       "      <td>3</td>\n",
       "      <td>1</td>\n",
       "      <td>118</td>\n",
       "      <td>13</td>\n",
       "      <td>18</td>\n",
       "      <td>50</td>\n",
       "      <td>239.554</td>\n",
       "      <td>97</td>\n",
       "      <td>1</td>\n",
       "      <td>1</td>\n",
       "      <td>1</td>\n",
       "      <td>1</td>\n",
       "      <td>0</td>\n",
       "      <td>0</td>\n",
       "      <td>98</td>\n",
       "      <td>178</td>\n",
       "      <td>31</td>\n",
       "      <td>0</td>\n",
       "    </tr>\n",
       "    <tr>\n",
       "      <th>23</th>\n",
       "      <td>23</td>\n",
       "      <td>7</td>\n",
       "      <td>4</td>\n",
       "      <td>1</td>\n",
       "      <td>179</td>\n",
       "      <td>51</td>\n",
       "      <td>18</td>\n",
       "      <td>38</td>\n",
       "      <td>239.554</td>\n",
       "      <td>97</td>\n",
       "      <td>0</td>\n",
       "      <td>1</td>\n",
       "      <td>0</td>\n",
       "      <td>1</td>\n",
       "      <td>0</td>\n",
       "      <td>0</td>\n",
       "      <td>89</td>\n",
       "      <td>170</td>\n",
       "      <td>31</td>\n",
       "      <td>2</td>\n",
       "    </tr>\n",
       "    <tr>\n",
       "      <th>7</th>\n",
       "      <td>7</td>\n",
       "      <td>7</td>\n",
       "      <td>5</td>\n",
       "      <td>1</td>\n",
       "      <td>279</td>\n",
       "      <td>5</td>\n",
       "      <td>14</td>\n",
       "      <td>39</td>\n",
       "      <td>239.554</td>\n",
       "      <td>97</td>\n",
       "      <td>0</td>\n",
       "      <td>1</td>\n",
       "      <td>2</td>\n",
       "      <td>1</td>\n",
       "      <td>1</td>\n",
       "      <td>0</td>\n",
       "      <td>68</td>\n",
       "      <td>168</td>\n",
       "      <td>24</td>\n",
       "      <td>4</td>\n",
       "    </tr>\n",
       "    <tr>\n",
       "      <th>23</th>\n",
       "      <td>23</td>\n",
       "      <td>7</td>\n",
       "      <td>5</td>\n",
       "      <td>1</td>\n",
       "      <td>289</td>\n",
       "      <td>36</td>\n",
       "      <td>13</td>\n",
       "      <td>33</td>\n",
       "      <td>239.554</td>\n",
       "      <td>97</td>\n",
       "      <td>0</td>\n",
       "      <td>1</td>\n",
       "      <td>2</td>\n",
       "      <td>1</td>\n",
       "      <td>0</td>\n",
       "      <td>1</td>\n",
       "      <td>90</td>\n",
       "      <td>172</td>\n",
       "      <td>30</td>\n",
       "      <td>2</td>\n",
       "    </tr>\n",
       "  </tbody>\n",
       "</table>\n",
       "</div>"
      ],
      "text/plain": [
       "                    Reason for absence  Month of absence  Day of the week  \\\n",
       "Reason for absence                                                          \n",
       "26                                  26                 7                3   \n",
       "0                                    0                 7                3   \n",
       "23                                  23                 7                4   \n",
       "7                                    7                 7                5   \n",
       "23                                  23                 7                5   \n",
       "\n",
       "                    Seasons  Transportation expense  \\\n",
       "Reason for absence                                    \n",
       "26                        1                     289   \n",
       "0                         1                     118   \n",
       "23                        1                     179   \n",
       "7                         1                     279   \n",
       "23                        1                     289   \n",
       "\n",
       "                    Distance from Residence to Work  Service time  Age  \\\n",
       "Reason for absence                                                       \n",
       "26                                               36            13   33   \n",
       "0                                                13            18   50   \n",
       "23                                               51            18   38   \n",
       "7                                                 5            14   39   \n",
       "23                                               36            13   33   \n",
       "\n",
       "                    Work load Average/day   Hit target  Disciplinary failure  \\\n",
       "Reason for absence                                                             \n",
       "26                                 239.554          97                     0   \n",
       "0                                  239.554          97                     1   \n",
       "23                                 239.554          97                     0   \n",
       "7                                  239.554          97                     0   \n",
       "23                                 239.554          97                     0   \n",
       "\n",
       "                    Education  Son  Social drinker  Social smoker  Pet  \\\n",
       "Reason for absence                                                       \n",
       "26                          1    2               1              0    1   \n",
       "0                           1    1               1              0    0   \n",
       "23                          1    0               1              0    0   \n",
       "7                           1    2               1              1    0   \n",
       "23                          1    2               1              0    1   \n",
       "\n",
       "                    Weight  Height  Body mass index  Absenteeism time in hours  \n",
       "Reason for absence                                                              \n",
       "26                      90     172               30                          4  \n",
       "0                       98     178               31                          0  \n",
       "23                      89     170               31                          2  \n",
       "7                       68     168               24                          4  \n",
       "23                      90     172               30                          2  "
      ]
     },
     "execution_count": 6,
     "metadata": {},
     "output_type": "execute_result"
    }
   ],
   "source": [
    "# Set ''Reason for absence' as index\n",
    "# rest of numerical features become attributes of each unique absence\n",
    "absence.index=absence['Reason for absence']\n",
    "absence.head()"
   ]
  },
  {
   "cell_type": "code",
   "execution_count": 7,
   "id": "eea0a656",
   "metadata": {},
   "outputs": [
    {
     "name": "stderr",
     "output_type": "stream",
     "text": [
      "/home/ec2-user/anaconda3/envs/python3/lib/python3.8/site-packages/seaborn/distributions.py:2619: FutureWarning: `distplot` is a deprecated function and will be removed in a future version. Please adapt your code to use either `displot` (a figure-level function with similar flexibility) or `histplot` (an axes-level function for histograms).\n",
      "  warnings.warn(msg, FutureWarning)\n"
     ]
    },
    {
     "data": {
      "image/png": "[encoded data removed]",
      "text/plain": [
       "<Figure size 432x216 with 1 Axes>"
      ]
     },
     "metadata": {},
     "output_type": "display_data"
    },
    {
     "name": "stderr",
     "output_type": "stream",
     "text": [
      "/home/ec2-user/anaconda3/envs/python3/lib/python3.8/site-packages/seaborn/distributions.py:2619: FutureWarning: `distplot` is a deprecated function and will be removed in a future version. Please adapt your code to use either `displot` (a figure-level function with similar flexibility) or `histplot` (an axes-level function for histograms).\n",
      "  warnings.warn(msg, FutureWarning)\n"
     ]
    },
    {
     "data": {
      "image/png": "[encoded data removed]",
      "text/plain": [
       "<Figure size 432x216 with 1 Axes>"
      ]
     },
     "metadata": {},
     "output_type": "display_data"
    },
    {
     "name": "stderr",
     "output_type": "stream",
     "text": [
      "/home/ec2-user/anaconda3/envs/python3/lib/python3.8/site-packages/seaborn/distributions.py:2619: FutureWarning: `distplot` is a deprecated function and will be removed in a future version. Please adapt your code to use either `displot` (a figure-level function with similar flexibility) or `histplot` (an axes-level function for histograms).\n",
      "  warnings.warn(msg, FutureWarning)\n"
     ]
    },
    {
     "data": {
      "image/png": "[encoded data removed]",
      "text/plain": [
       "<Figure size 432x216 with 1 Axes>"
      ]
     },
     "metadata": {},
     "output_type": "display_data"
    }
   ],
   "source": [
    "#Visualize data for some of our columns for distribution\n",
    "import seaborn as sns\n",
    "\n",
    "for a in ['Reason for absence', 'Transportation expense', 'Distance from Residence to Work']:\n",
    "    ax = plt.subplots(figsize=(6,3))\n",
    "    ax = sns.distplot(absence[a])\n",
    "    title = \"Histogram of \" + a\n",
    "    ax.set_title(title, fontsize=12)\n",
    "    plt.show()"
   ]
  },
  {
   "cell_type": "code",
   "execution_count": 8,
   "id": "ecd971c1",
   "metadata": {},
   "outputs": [],
   "source": [
    "#Standardize the scaling of the columns in order to use any distance based analytical methods\n",
    "# We can compare the relative distances between different feature columns\n",
    "# MinMaxScaler to transform columns so they fall between 0 and 1\n",
    "\n",
    "from sklearn.preprocessing import MinMaxScaler\n",
    "scaler = MinMaxScaler()\n",
    "absence_scaled = pd.DataFrame(scaler.fit_transform(absence))\n",
    "absence_scaled.columns = absence.columns\n",
    "absence_scaled.index = absence.index"
   ]
  },
  {
   "cell_type": "code",
   "execution_count": 9,
   "id": "cf32d77b",
   "metadata": {},
   "outputs": [
    {
     "data": {
      "text/html": [
       "<div>\n",
       "<style scoped>\n",
       "    .dataframe tbody tr th:only-of-type {\n",
       "        vertical-align: middle;\n",
       "    }\n",
       "\n",
       "    .dataframe tbody tr th {\n",
       "        vertical-align: top;\n",
       "    }\n",
       "\n",
       "    .dataframe thead th {\n",
       "        text-align: right;\n",
       "    }\n",
       "</style>\n",
       "<table border=\"1\" class=\"dataframe\">\n",
       "  <thead>\n",
       "    <tr style=\"text-align: right;\">\n",
       "      <th></th>\n",
       "      <th>Reason for absence</th>\n",
       "      <th>Month of absence</th>\n",
       "      <th>Day of the week</th>\n",
       "      <th>Seasons</th>\n",
       "      <th>Transportation expense</th>\n",
       "      <th>Distance from Residence to Work</th>\n",
       "      <th>Service time</th>\n",
       "      <th>Age</th>\n",
       "      <th>Work load Average/day</th>\n",
       "      <th>Hit target</th>\n",
       "      <th>Disciplinary failure</th>\n",
       "      <th>Education</th>\n",
       "      <th>Son</th>\n",
       "      <th>Social drinker</th>\n",
       "      <th>Social smoker</th>\n",
       "      <th>Pet</th>\n",
       "      <th>Weight</th>\n",
       "      <th>Height</th>\n",
       "      <th>Body mass index</th>\n",
       "      <th>Absenteeism time in hours</th>\n",
       "    </tr>\n",
       "  </thead>\n",
       "  <tbody>\n",
       "    <tr>\n",
       "      <th>count</th>\n",
       "      <td>740.000000</td>\n",
       "      <td>740.000000</td>\n",
       "      <td>740.000000</td>\n",
       "      <td>740.000000</td>\n",
       "      <td>740.000000</td>\n",
       "      <td>740.000000</td>\n",
       "      <td>740.000000</td>\n",
       "      <td>740.000000</td>\n",
       "      <td>740.000000</td>\n",
       "      <td>740.000000</td>\n",
       "      <td>740.000000</td>\n",
       "      <td>740.000000</td>\n",
       "      <td>740.000000</td>\n",
       "      <td>740.000000</td>\n",
       "      <td>740.000000</td>\n",
       "      <td>740.000000</td>\n",
       "      <td>740.000000</td>\n",
       "      <td>740.000000</td>\n",
       "      <td>740.000000</td>\n",
       "      <td>740.000000</td>\n",
       "    </tr>\n",
       "    <tr>\n",
       "      <th>mean</th>\n",
       "      <td>0.686293</td>\n",
       "      <td>0.527027</td>\n",
       "      <td>0.478716</td>\n",
       "      <td>0.514865</td>\n",
       "      <td>0.382703</td>\n",
       "      <td>0.524066</td>\n",
       "      <td>0.412645</td>\n",
       "      <td>0.304839</td>\n",
       "      <td>0.379108</td>\n",
       "      <td>0.715149</td>\n",
       "      <td>0.054054</td>\n",
       "      <td>0.097297</td>\n",
       "      <td>0.254730</td>\n",
       "      <td>0.567568</td>\n",
       "      <td>0.072973</td>\n",
       "      <td>0.093243</td>\n",
       "      <td>0.442983</td>\n",
       "      <td>0.276208</td>\n",
       "      <td>0.404054</td>\n",
       "      <td>0.057703</td>\n",
       "    </tr>\n",
       "    <tr>\n",
       "      <th>std</th>\n",
       "      <td>0.301193</td>\n",
       "      <td>0.286357</td>\n",
       "      <td>0.355419</td>\n",
       "      <td>0.370610</td>\n",
       "      <td>0.247971</td>\n",
       "      <td>0.315676</td>\n",
       "      <td>0.156603</td>\n",
       "      <td>0.208993</td>\n",
       "      <td>0.225813</td>\n",
       "      <td>0.198911</td>\n",
       "      <td>0.226277</td>\n",
       "      <td>0.224413</td>\n",
       "      <td>0.274622</td>\n",
       "      <td>0.495749</td>\n",
       "      <td>0.260268</td>\n",
       "      <td>0.164782</td>\n",
       "      <td>0.247754</td>\n",
       "      <td>0.182879</td>\n",
       "      <td>0.225550</td>\n",
       "      <td>0.111092</td>\n",
       "    </tr>\n",
       "    <tr>\n",
       "      <th>min</th>\n",
       "      <td>0.000000</td>\n",
       "      <td>0.000000</td>\n",
       "      <td>0.000000</td>\n",
       "      <td>0.000000</td>\n",
       "      <td>0.000000</td>\n",
       "      <td>0.000000</td>\n",
       "      <td>0.000000</td>\n",
       "      <td>0.000000</td>\n",
       "      <td>0.000000</td>\n",
       "      <td>0.000000</td>\n",
       "      <td>0.000000</td>\n",
       "      <td>0.000000</td>\n",
       "      <td>0.000000</td>\n",
       "      <td>0.000000</td>\n",
       "      <td>0.000000</td>\n",
       "      <td>0.000000</td>\n",
       "      <td>0.000000</td>\n",
       "      <td>0.000000</td>\n",
       "      <td>0.000000</td>\n",
       "      <td>0.000000</td>\n",
       "    </tr>\n",
       "    <tr>\n",
       "      <th>25%</th>\n",
       "      <td>0.464286</td>\n",
       "      <td>0.250000</td>\n",
       "      <td>0.250000</td>\n",
       "      <td>0.333333</td>\n",
       "      <td>0.225926</td>\n",
       "      <td>0.234043</td>\n",
       "      <td>0.285714</td>\n",
       "      <td>0.129032</td>\n",
       "      <td>0.222412</td>\n",
       "      <td>0.631579</td>\n",
       "      <td>0.000000</td>\n",
       "      <td>0.000000</td>\n",
       "      <td>0.000000</td>\n",
       "      <td>0.000000</td>\n",
       "      <td>0.000000</td>\n",
       "      <td>0.000000</td>\n",
       "      <td>0.250000</td>\n",
       "      <td>0.181818</td>\n",
       "      <td>0.263158</td>\n",
       "      <td>0.016667</td>\n",
       "    </tr>\n",
       "    <tr>\n",
       "      <th>50%</th>\n",
       "      <td>0.821429</td>\n",
       "      <td>0.500000</td>\n",
       "      <td>0.500000</td>\n",
       "      <td>0.666667</td>\n",
       "      <td>0.396296</td>\n",
       "      <td>0.446809</td>\n",
       "      <td>0.428571</td>\n",
       "      <td>0.322581</td>\n",
       "      <td>0.337244</td>\n",
       "      <td>0.736842</td>\n",
       "      <td>0.000000</td>\n",
       "      <td>0.000000</td>\n",
       "      <td>0.250000</td>\n",
       "      <td>1.000000</td>\n",
       "      <td>0.000000</td>\n",
       "      <td>0.000000</td>\n",
       "      <td>0.519231</td>\n",
       "      <td>0.212121</td>\n",
       "      <td>0.315789</td>\n",
       "      <td>0.025000</td>\n",
       "    </tr>\n",
       "    <tr>\n",
       "      <th>75%</th>\n",
       "      <td>0.928571</td>\n",
       "      <td>0.750000</td>\n",
       "      <td>0.750000</td>\n",
       "      <td>1.000000</td>\n",
       "      <td>0.525926</td>\n",
       "      <td>0.957447</td>\n",
       "      <td>0.535714</td>\n",
       "      <td>0.419355</td>\n",
       "      <td>0.510502</td>\n",
       "      <td>0.842105</td>\n",
       "      <td>0.000000</td>\n",
       "      <td>0.000000</td>\n",
       "      <td>0.500000</td>\n",
       "      <td>1.000000</td>\n",
       "      <td>0.000000</td>\n",
       "      <td>0.125000</td>\n",
       "      <td>0.634615</td>\n",
       "      <td>0.272727</td>\n",
       "      <td>0.631579</td>\n",
       "      <td>0.066667</td>\n",
       "    </tr>\n",
       "    <tr>\n",
       "      <th>max</th>\n",
       "      <td>1.000000</td>\n",
       "      <td>1.000000</td>\n",
       "      <td>1.000000</td>\n",
       "      <td>1.000000</td>\n",
       "      <td>1.000000</td>\n",
       "      <td>1.000000</td>\n",
       "      <td>1.000000</td>\n",
       "      <td>1.000000</td>\n",
       "      <td>1.000000</td>\n",
       "      <td>1.000000</td>\n",
       "      <td>1.000000</td>\n",
       "      <td>1.000000</td>\n",
       "      <td>1.000000</td>\n",
       "      <td>1.000000</td>\n",
       "      <td>1.000000</td>\n",
       "      <td>1.000000</td>\n",
       "      <td>1.000000</td>\n",
       "      <td>1.000000</td>\n",
       "      <td>1.000000</td>\n",
       "      <td>1.000000</td>\n",
       "    </tr>\n",
       "  </tbody>\n",
       "</table>\n",
       "</div>"
      ],
      "text/plain": [
       "       Reason for absence  Month of absence  Day of the week     Seasons  \\\n",
       "count          740.000000        740.000000       740.000000  740.000000   \n",
       "mean             0.686293          0.527027         0.478716    0.514865   \n",
       "std              0.301193          0.286357         0.355419    0.370610   \n",
       "min              0.000000          0.000000         0.000000    0.000000   \n",
       "25%              0.464286          0.250000         0.250000    0.333333   \n",
       "50%              0.821429          0.500000         0.500000    0.666667   \n",
       "75%              0.928571          0.750000         0.750000    1.000000   \n",
       "max              1.000000          1.000000         1.000000    1.000000   \n",
       "\n",
       "       Transportation expense  Distance from Residence to Work  Service time  \\\n",
       "count              740.000000                       740.000000    740.000000   \n",
       "mean                 0.382703                         0.524066      0.412645   \n",
       "std                  0.247971                         0.315676      0.156603   \n",
       "min                  0.000000                         0.000000      0.000000   \n",
       "25%                  0.225926                         0.234043      0.285714   \n",
       "50%                  0.396296                         0.446809      0.428571   \n",
       "75%                  0.525926                         0.957447      0.535714   \n",
       "max                  1.000000                         1.000000      1.000000   \n",
       "\n",
       "              Age  Work load Average/day   Hit target  Disciplinary failure  \\\n",
       "count  740.000000              740.000000  740.000000            740.000000   \n",
       "mean     0.304839                0.379108    0.715149              0.054054   \n",
       "std      0.208993                0.225813    0.198911              0.226277   \n",
       "min      0.000000                0.000000    0.000000              0.000000   \n",
       "25%      0.129032                0.222412    0.631579              0.000000   \n",
       "50%      0.322581                0.337244    0.736842              0.000000   \n",
       "75%      0.419355                0.510502    0.842105              0.000000   \n",
       "max      1.000000                1.000000    1.000000              1.000000   \n",
       "\n",
       "        Education         Son  Social drinker  Social smoker         Pet  \\\n",
       "count  740.000000  740.000000      740.000000     740.000000  740.000000   \n",
       "mean     0.097297    0.254730        0.567568       0.072973    0.093243   \n",
       "std      0.224413    0.274622        0.495749       0.260268    0.164782   \n",
       "min      0.000000    0.000000        0.000000       0.000000    0.000000   \n",
       "25%      0.000000    0.000000        0.000000       0.000000    0.000000   \n",
       "50%      0.000000    0.250000        1.000000       0.000000    0.000000   \n",
       "75%      0.000000    0.500000        1.000000       0.000000    0.125000   \n",
       "max      1.000000    1.000000        1.000000       1.000000    1.000000   \n",
       "\n",
       "           Weight      Height  Body mass index  Absenteeism time in hours  \n",
       "count  740.000000  740.000000       740.000000                 740.000000  \n",
       "mean     0.442983    0.276208         0.404054                   0.057703  \n",
       "std      0.247754    0.182879         0.225550                   0.111092  \n",
       "min      0.000000    0.000000         0.000000                   0.000000  \n",
       "25%      0.250000    0.181818         0.263158                   0.016667  \n",
       "50%      0.519231    0.212121         0.315789                   0.025000  \n",
       "75%      0.634615    0.272727         0.631579                   0.066667  \n",
       "max      1.000000    1.000000         1.000000                   1.000000  "
      ]
     },
     "execution_count": 9,
     "metadata": {},
     "output_type": "execute_result"
    }
   ],
   "source": [
    "absence_scaled.describe()\n",
    "# all columns have been scaled between 0 and 1"
   ]
  },
  {
   "cell_type": "code",
   "execution_count": 10,
   "id": "d4ea7749",
   "metadata": {},
   "outputs": [
    {
     "name": "stderr",
     "output_type": "stream",
     "text": [
      "train_instance_count has been renamed in sagemaker>=2.\n",
      "See: https://sagemaker.readthedocs.io/en/stable/v2.html for details.\n",
      "train_instance_type has been renamed in sagemaker>=2.\n",
      "See: https://sagemaker.readthedocs.io/en/stable/v2.html for details.\n"
     ]
    }
   ],
   "source": [
    "# PCA to reduce features to relevant\n",
    "bucket = bucket_name\n",
    "from sagemaker import PCA\n",
    "num_components=19\n",
    "\n",
    "pca_SM = PCA(role=role,\n",
    "            train_instance_count=1,\n",
    "            train_instance_type='ml.c4.xlarge',\n",
    "            output_path='s3://' + bucket + '/absence/',\n",
    "            num_components=num_components)\n"
   ]
  },
  {
   "cell_type": "code",
   "execution_count": 11,
   "id": "6be6ed6e",
   "metadata": {},
   "outputs": [],
   "source": [
    "# Extract the numpy array from the DF and cast to float32\n",
    "train_data = absence_scaled.values.astype('float32')"
   ]
  },
  {
   "cell_type": "code",
   "execution_count": 13,
   "id": "f040b780",
   "metadata": {},
   "outputs": [
    {
     "name": "stdout",
     "output_type": "stream",
     "text": [
      "CPU times: user 4 µs, sys: 0 ns, total: 4 µs\n",
      "Wall time: 8.34 µs\n"
     ]
    },
    {
     "name": "stderr",
     "output_type": "stream",
     "text": [
      "Defaulting to the only supported framework/algorithm version: 1. Ignoring framework/algorithm version: 1.\n",
      "Defaulting to the only supported framework/algorithm version: 1. Ignoring framework/algorithm version: 1.\n"
     ]
    },
    {
     "name": "stdout",
     "output_type": "stream",
     "text": [
      "2022-09-23 16:46:49 Starting - Starting the training job...\n",
      "2022-09-23 16:47:15 Starting - Preparing the instances for trainingProfilerReport-1663951609: InProgress\n",
      "......\n",
      "2022-09-23 16:48:17 Downloading - Downloading input data...\n",
      "2022-09-23 16:48:38 Training - Downloading the training image.........\n",
      "2022-09-23 16:50:14 Training - Training image download completed. Training in progress.\u001b[34mDocker entrypoint called with argument(s): train\u001b[0m\n",
      "\u001b[34mRunning default environment configuration script\u001b[0m\n",
      "\u001b[34m[09/23/2022 16:50:14 INFO 139758084417344] Reading default configuration from /opt/amazon/lib/python3.7/site-packages/algorithm/resources/default-conf.json: {'algorithm_mode': 'regular', 'subtract_mean': 'true', 'extra_components': '-1', 'force_dense': 'true', 'epochs': 1, '_log_level': 'info', '_kvstore': 'dist_sync', '_num_kv_servers': 'auto', '_num_gpus': 'auto'}\u001b[0m\n",
      "\u001b[34m[09/23/2022 16:50:14 INFO 139758084417344] Merging with provided configuration from /opt/ml/input/config/hyperparameters.json: {'feature_dim': '20', 'mini_batch_size': '500', 'num_components': '19'}\u001b[0m\n",
      "\u001b[34m[09/23/2022 16:50:14 INFO 139758084417344] Final configuration: {'algorithm_mode': 'regular', 'subtract_mean': 'true', 'extra_components': '-1', 'force_dense': 'true', 'epochs': 1, '_log_level': 'info', '_kvstore': 'dist_sync', '_num_kv_servers': 'auto', '_num_gpus': 'auto', 'feature_dim': '20', 'mini_batch_size': '500', 'num_components': '19'}\u001b[0m\n",
      "\u001b[34m[09/23/2022 16:50:14 WARNING 139758084417344] Loggers have already been setup.\u001b[0m\n",
      "\u001b[34m[09/23/2022 16:50:14 INFO 139758084417344] Launching parameter server for role scheduler\u001b[0m\n",
      "\u001b[34m[09/23/2022 16:50:14 INFO 139758084417344] {'ENVROOT': '/opt/amazon', 'PROTOCOL_BUFFERS_PYTHON_IMPLEMENTATION': 'cpp', 'HOSTNAME': 'ip-10-2-215-242.ec2.internal', 'TRAINING_JOB_NAME': 'pca-2022-09-23-16-46-49-702', 'NVIDIA_REQUIRE_CUDA': 'cuda>=9.0', 'TRAINING_JOB_ARN': 'arn:aws:sagemaker:us-east-1:501686072548:training-job/pca-2022-09-23-16-46-49-702', 'AWS_CONTAINER_CREDENTIALS_RELATIVE_URI': '/v2/credentials/proxy-df47537b2357b1273e1ff5262bc98b2d72527263c3d2aec250cebccd71d03045-customer', 'CANONICAL_ENVROOT': '/opt/amazon', 'PYTHONUNBUFFERED': 'TRUE', 'NVIDIA_VISIBLE_DEVICES': 'all', 'LD_LIBRARY_PATH': '/opt/amazon/lib/python3.7/site-packages/cv2/../../../../lib:/usr/local/nvidia/lib64:/opt/amazon/lib', 'NVIDIA_DRIVER_CAPABILITIES': 'compute,utility', 'PATH': '/opt/amazon/bin:/usr/local/nvidia/bin:/usr/local/sbin:/usr/local/bin:/usr/sbin:/usr/bin:/sbin:/bin', 'PWD': '/', 'LANG': 'en_US.utf8', 'AWS_REGION': 'us-east-1', 'HOME': '/root', 'SHLVL': '1', 'PROTOCOL_BUFFERS_PYTHON_IMPLEMENTATION_VERSION': '2', 'OMP_NUM_THREADS': '2', 'DMLC_INTERFACE': 'eth0', 'SAGEMAKER_HTTP_PORT': '8080', 'SAGEMAKER_DATA_PATH': '/opt/ml'}\u001b[0m\n",
      "\u001b[34m[09/23/2022 16:50:14 INFO 139758084417344] envs={'ENVROOT': '/opt/amazon', 'PROTOCOL_BUFFERS_PYTHON_IMPLEMENTATION': 'cpp', 'HOSTNAME': 'ip-10-2-215-242.ec2.internal', 'TRAINING_JOB_NAME': 'pca-2022-09-23-16-46-49-702', 'NVIDIA_REQUIRE_CUDA': 'cuda>=9.0', 'TRAINING_JOB_ARN': 'arn:aws:sagemaker:us-east-1:501686072548:training-job/pca-2022-09-23-16-46-49-702', 'AWS_CONTAINER_CREDENTIALS_RELATIVE_URI': '/v2/credentials/proxy-df47537b2357b1273e1ff5262bc98b2d72527263c3d2aec250cebccd71d03045-customer', 'CANONICAL_ENVROOT': '/opt/amazon', 'PYTHONUNBUFFERED': 'TRUE', 'NVIDIA_VISIBLE_DEVICES': 'all', 'LD_LIBRARY_PATH': '/opt/amazon/lib/python3.7/site-packages/cv2/../../../../lib:/usr/local/nvidia/lib64:/opt/amazon/lib', 'NVIDIA_DRIVER_CAPABILITIES': 'compute,utility', 'PATH': '/opt/amazon/bin:/usr/local/nvidia/bin:/usr/local/sbin:/usr/local/bin:/usr/sbin:/usr/bin:/sbin:/bin', 'PWD': '/', 'LANG': 'en_US.utf8', 'AWS_REGION': 'us-east-1', 'HOME': '/root', 'SHLVL': '1', 'PROTOCOL_BUFFERS_PYTHON_IMPLEMENTATION_VERSION': '2', 'OMP_NUM_THREADS': '2', 'DMLC_INTERFACE': 'eth0', 'SAGEMAKER_HTTP_PORT': '8080', 'SAGEMAKER_DATA_PATH': '/opt/ml', 'DMLC_ROLE': 'scheduler', 'DMLC_PS_ROOT_URI': '10.2.215.242', 'DMLC_PS_ROOT_PORT': '9000', 'DMLC_NUM_SERVER': '1', 'DMLC_NUM_WORKER': '1'}\u001b[0m\n",
      "\u001b[34m[09/23/2022 16:50:14 INFO 139758084417344] Launching parameter server for role server\u001b[0m\n",
      "\u001b[34m[09/23/2022 16:50:14 INFO 139758084417344] {'ENVROOT': '/opt/amazon', 'PROTOCOL_BUFFERS_PYTHON_IMPLEMENTATION': 'cpp', 'HOSTNAME': 'ip-10-2-215-242.ec2.internal', 'TRAINING_JOB_NAME': 'pca-2022-09-23-16-46-49-702', 'NVIDIA_REQUIRE_CUDA': 'cuda>=9.0', 'TRAINING_JOB_ARN': 'arn:aws:sagemaker:us-east-1:501686072548:training-job/pca-2022-09-23-16-46-49-702', 'AWS_CONTAINER_CREDENTIALS_RELATIVE_URI': '/v2/credentials/proxy-df47537b2357b1273e1ff5262bc98b2d72527263c3d2aec250cebccd71d03045-customer', 'CANONICAL_ENVROOT': '/opt/amazon', 'PYTHONUNBUFFERED': 'TRUE', 'NVIDIA_VISIBLE_DEVICES': 'all', 'LD_LIBRARY_PATH': '/opt/amazon/lib/python3.7/site-packages/cv2/../../../../lib:/usr/local/nvidia/lib64:/opt/amazon/lib', 'NVIDIA_DRIVER_CAPABILITIES': 'compute,utility', 'PATH': '/opt/amazon/bin:/usr/local/nvidia/bin:/usr/local/sbin:/usr/local/bin:/usr/sbin:/usr/bin:/sbin:/bin', 'PWD': '/', 'LANG': 'en_US.utf8', 'AWS_REGION': 'us-east-1', 'HOME': '/root', 'SHLVL': '1', 'PROTOCOL_BUFFERS_PYTHON_IMPLEMENTATION_VERSION': '2', 'OMP_NUM_THREADS': '2', 'DMLC_INTERFACE': 'eth0', 'SAGEMAKER_HTTP_PORT': '8080', 'SAGEMAKER_DATA_PATH': '/opt/ml'}\u001b[0m\n",
      "\u001b[34m[09/23/2022 16:50:14 INFO 139758084417344] envs={'ENVROOT': '/opt/amazon', 'PROTOCOL_BUFFERS_PYTHON_IMPLEMENTATION': 'cpp', 'HOSTNAME': 'ip-10-2-215-242.ec2.internal', 'TRAINING_JOB_NAME': 'pca-2022-09-23-16-46-49-702', 'NVIDIA_REQUIRE_CUDA': 'cuda>=9.0', 'TRAINING_JOB_ARN': 'arn:aws:sagemaker:us-east-1:501686072548:training-job/pca-2022-09-23-16-46-49-702', 'AWS_CONTAINER_CREDENTIALS_RELATIVE_URI': '/v2/credentials/proxy-df47537b2357b1273e1ff5262bc98b2d72527263c3d2aec250cebccd71d03045-customer', 'CANONICAL_ENVROOT': '/opt/amazon', 'PYTHONUNBUFFERED': 'TRUE', 'NVIDIA_VISIBLE_DEVICES': 'all', 'LD_LIBRARY_PATH': '/opt/amazon/lib/python3.7/site-packages/cv2/../../../../lib:/usr/local/nvidia/lib64:/opt/amazon/lib', 'NVIDIA_DRIVER_CAPABILITIES': 'compute,utility', 'PATH': '/opt/amazon/bin:/usr/local/nvidia/bin:/usr/local/sbin:/usr/local/bin:/usr/sbin:/usr/bin:/sbin:/bin', 'PWD': '/', 'LANG': 'en_US.utf8', 'AWS_REGION': 'us-east-1', 'HOME': '/root', 'SHLVL': '1', 'PROTOCOL_BUFFERS_PYTHON_IMPLEMENTATION_VERSION': '2', 'OMP_NUM_THREADS': '2', 'DMLC_INTERFACE': 'eth0', 'SAGEMAKER_HTTP_PORT': '8080', 'SAGEMAKER_DATA_PATH': '/opt/ml', 'DMLC_ROLE': 'server', 'DMLC_PS_ROOT_URI': '10.2.215.242', 'DMLC_PS_ROOT_PORT': '9000', 'DMLC_NUM_SERVER': '1', 'DMLC_NUM_WORKER': '1'}\u001b[0m\n",
      "\u001b[34m[09/23/2022 16:50:14 INFO 139758084417344] Environment: {'ENVROOT': '/opt/amazon', 'PROTOCOL_BUFFERS_PYTHON_IMPLEMENTATION': 'cpp', 'HOSTNAME': 'ip-10-2-215-242.ec2.internal', 'TRAINING_JOB_NAME': 'pca-2022-09-23-16-46-49-702', 'NVIDIA_REQUIRE_CUDA': 'cuda>=9.0', 'TRAINING_JOB_ARN': 'arn:aws:sagemaker:us-east-1:501686072548:training-job/pca-2022-09-23-16-46-49-702', 'AWS_CONTAINER_CREDENTIALS_RELATIVE_URI': '/v2/credentials/proxy-df47537b2357b1273e1ff5262bc98b2d72527263c3d2aec250cebccd71d03045-customer', 'CANONICAL_ENVROOT': '/opt/amazon', 'PYTHONUNBUFFERED': 'TRUE', 'NVIDIA_VISIBLE_DEVICES': 'all', 'LD_LIBRARY_PATH': '/opt/amazon/lib/python3.7/site-packages/cv2/../../../../lib:/usr/local/nvidia/lib64:/opt/amazon/lib', 'NVIDIA_DRIVER_CAPABILITIES': 'compute,utility', 'PATH': '/opt/amazon/bin:/usr/local/nvidia/bin:/usr/local/sbin:/usr/local/bin:/usr/sbin:/usr/bin:/sbin:/bin', 'PWD': '/', 'LANG': 'en_US.utf8', 'AWS_REGION': 'us-east-1', 'HOME': '/root', 'SHLVL': '1', 'PROTOCOL_BUFFERS_PYTHON_IMPLEMENTATION_VERSION': '2', 'OMP_NUM_THREADS': '2', 'DMLC_INTERFACE': 'eth0', 'SAGEMAKER_HTTP_PORT': '8080', 'SAGEMAKER_DATA_PATH': '/opt/ml', 'DMLC_ROLE': 'worker', 'DMLC_PS_ROOT_URI': '10.2.215.242', 'DMLC_PS_ROOT_PORT': '9000', 'DMLC_NUM_SERVER': '1', 'DMLC_NUM_WORKER': '1'}\u001b[0m\n",
      "\u001b[34mProcess 34 is a shell:scheduler.\u001b[0m\n",
      "\u001b[34mProcess 44 is a shell:server.\u001b[0m\n",
      "\u001b[34mProcess 1 is a worker.\u001b[0m\n",
      "\u001b[34m[09/23/2022 16:50:14 INFO 139758084417344] Using default worker.\u001b[0m\n",
      "\u001b[34m[09/23/2022 16:50:14 INFO 139758084417344] Loaded iterator creator application/x-labeled-vector-protobuf for content type ('application/x-labeled-vector-protobuf', '1.0')\u001b[0m\n",
      "\u001b[34m[09/23/2022 16:50:14 INFO 139758084417344] Loaded iterator creator application/x-recordio-protobuf for content type ('application/x-recordio-protobuf', '1.0')\u001b[0m\n",
      "\u001b[34m[09/23/2022 16:50:14 INFO 139758084417344] Loaded iterator creator protobuf for content type ('protobuf', '1.0')\u001b[0m\n",
      "\u001b[34m[09/23/2022 16:50:14 INFO 139758084417344] Checkpoint loading and saving are disabled.\u001b[0m\n",
      "\u001b[34m[09/23/2022 16:50:15 INFO 139758084417344] Create Store: dist_sync\u001b[0m\n",
      "\u001b[34m[09/23/2022 16:50:15 INFO 139758084417344] nvidia-smi: took 0.030 seconds to run.\u001b[0m\n",
      "\u001b[34m[09/23/2022 16:50:15 INFO 139758084417344] nvidia-smi identified 0 GPUs.\u001b[0m\n",
      "\u001b[34m[09/23/2022 16:50:15 INFO 139758084417344] Number of GPUs being used: 0\u001b[0m\n",
      "\u001b[34m[09/23/2022 16:50:15 INFO 139758084417344] The default executor is <PCAExecutor on cpu(0)>.\u001b[0m\n",
      "\u001b[34m[09/23/2022 16:50:15 INFO 139758084417344] 20 feature(s) found in 'data'.\u001b[0m\n",
      "\u001b[34m[09/23/2022 16:50:15 INFO 139758084417344] <PCAExecutor on cpu(0)> is assigned to batch slice from 0 to 499.\u001b[0m\n",
      "\u001b[34m#metrics {\"StartTime\": 1663951814.9966922, \"EndTime\": 1663951815.8713734, \"Dimensions\": {\"Algorithm\": \"PCA\", \"Host\": \"algo-1\", \"Operation\": \"training\"}, \"Metrics\": {\"initialize.time\": {\"sum\": 867.3439025878906, \"count\": 1, \"min\": 867.3439025878906, \"max\": 867.3439025878906}}}\u001b[0m\n",
      "\u001b[34m#metrics {\"StartTime\": 1663951815.8716288, \"EndTime\": 1663951815.8716795, \"Dimensions\": {\"Algorithm\": \"PCA\", \"Host\": \"algo-1\", \"Operation\": \"training\", \"Meta\": \"init_train_data_iter\"}, \"Metrics\": {\"Total Records Seen\": {\"sum\": 0.0, \"count\": 1, \"min\": 0, \"max\": 0}, \"Total Batches Seen\": {\"sum\": 0.0, \"count\": 1, \"min\": 0, \"max\": 0}, \"Max Records Seen Between Resets\": {\"sum\": 0.0, \"count\": 1, \"min\": 0, \"max\": 0}, \"Max Batches Seen Between Resets\": {\"sum\": 0.0, \"count\": 1, \"min\": 0, \"max\": 0}, \"Reset Count\": {\"sum\": 0.0, \"count\": 1, \"min\": 0, \"max\": 0}, \"Number of Records Since Last Reset\": {\"sum\": 0.0, \"count\": 1, \"min\": 0, \"max\": 0}, \"Number of Batches Since Last Reset\": {\"sum\": 0.0, \"count\": 1, \"min\": 0, \"max\": 0}}}\u001b[0m\n",
      "\u001b[34m[2022-09-23 16:50:15.872] [tensorio] [info] epoch_stats={\"data_pipeline\": \"/opt/ml/input/data/train\", \"epoch\": 0, \"duration\": 874, \"num_examples\": 1, \"num_bytes\": 52000}\u001b[0m\n",
      "\u001b[34m[2022-09-23 16:50:15.925] [tensorio] [info] epoch_stats={\"data_pipeline\": \"/opt/ml/input/data/train\", \"epoch\": 1, \"duration\": 42, \"num_examples\": 2, \"num_bytes\": 76960}\u001b[0m\n",
      "\u001b[34m#metrics {\"StartTime\": 1663951815.8715603, \"EndTime\": 1663951815.925503, \"Dimensions\": {\"Algorithm\": \"PCA\", \"Host\": \"algo-1\", \"Operation\": \"training\"}, \"Metrics\": {\"epochs\": {\"sum\": 1.0, \"count\": 1, \"min\": 1, \"max\": 1}, \"update.time\": {\"sum\": 53.323984146118164, \"count\": 1, \"min\": 53.323984146118164, \"max\": 53.323984146118164}}}\u001b[0m\n",
      "\u001b[34m[09/23/2022 16:50:15 INFO 139758084417344] #progress_metric: host=algo-1, completed 100.0 % of epochs\u001b[0m\n",
      "\u001b[34m#metrics {\"StartTime\": 1663951815.8721416, \"EndTime\": 1663951815.9258668, \"Dimensions\": {\"Algorithm\": \"PCA\", \"Host\": \"algo-1\", \"Operation\": \"training\", \"epoch\": 0, \"Meta\": \"training_data_iter\"}, \"Metrics\": {\"Total Records Seen\": {\"sum\": 740.0, \"count\": 1, \"min\": 740, \"max\": 740}, \"Total Batches Seen\": {\"sum\": 2.0, \"count\": 1, \"min\": 2, \"max\": 2}, \"Max Records Seen Between Resets\": {\"sum\": 740.0, \"count\": 1, \"min\": 740, \"max\": 740}, \"Max Batches Seen Between Resets\": {\"sum\": 2.0, \"count\": 1, \"min\": 2, \"max\": 2}, \"Reset Count\": {\"sum\": 1.0, \"count\": 1, \"min\": 1, \"max\": 1}, \"Number of Records Since Last Reset\": {\"sum\": 740.0, \"count\": 1, \"min\": 740, \"max\": 740}, \"Number of Batches Since Last Reset\": {\"sum\": 2.0, \"count\": 1, \"min\": 2, \"max\": 2}}}\u001b[0m\n",
      "\u001b[34m[09/23/2022 16:50:15 INFO 139758084417344] #throughput_metric: host=algo-1, train throughput=13742.50047597331 records/second\u001b[0m\n",
      "\u001b[34m#metrics {\"StartTime\": 1663951815.9255989, \"EndTime\": 1663951815.951436, \"Dimensions\": {\"Algorithm\": \"PCA\", \"Host\": \"algo-1\", \"Operation\": \"training\"}, \"Metrics\": {\"finalize.time\": {\"sum\": 25.194406509399414, \"count\": 1, \"min\": 25.194406509399414, \"max\": 25.194406509399414}}}\u001b[0m\n",
      "\u001b[34m[09/23/2022 16:50:15 INFO 139758084417344] Test data is not provided.\u001b[0m\n",
      "\u001b[34m#metrics {\"StartTime\": 1663951815.9515493, \"EndTime\": 1663951815.9545271, \"Dimensions\": {\"Algorithm\": \"PCA\", \"Host\": \"algo-1\", \"Operation\": \"training\"}, \"Metrics\": {\"setuptime\": {\"sum\": 31.18276596069336, \"count\": 1, \"min\": 31.18276596069336, \"max\": 31.18276596069336}, \"totaltime\": {\"sum\": 1217.153549194336, \"count\": 1, \"min\": 1217.153549194336, \"max\": 1217.153549194336}}}\u001b[0m\n"
     ]
    },
    {
     "name": "stdout",
     "output_type": "stream",
     "text": [
      "\n",
      "2022-09-23 16:50:35 Uploading - Uploading generated training model\n",
      "2022-09-23 16:50:35 Completed - Training job completed\n",
      "Training seconds: 138\n",
      "Billable seconds: 138\n"
     ]
    }
   ],
   "source": [
    "# Train PCA on train set\n",
    "%time\n",
    "pca_SM.fit(pca_SM.record_set(train_data))"
   ]
  },
  {
   "cell_type": "code",
   "execution_count": 14,
   "id": "af6460a8",
   "metadata": {},
   "outputs": [
    {
     "name": "stdout",
     "output_type": "stream",
     "text": [
      "model_algo-1\n"
     ]
    },
    {
     "data": {
      "text/plain": [
       "0"
      ]
     },
     "execution_count": 14,
     "metadata": {},
     "output_type": "execute_result"
    }
   ],
   "source": [
    "#Store Model Artifacts in S3\n",
    "job_name = pca_SM.latest_training_job.name\n",
    "model_key = \"absence/\" + job_name + \"/output/model.tar.gz\"\n",
    "\n",
    "boto3.resource('s3').Bucket(bucket).download_file(model_key, 'model.tar.gz')\n",
    "os.system('tar -zxvf model.tar.gz')"
   ]
  },
  {
   "cell_type": "code",
   "execution_count": 15,
   "id": "622c8014",
   "metadata": {},
   "outputs": [],
   "source": [
    "# Post model decompression, load the ND array using MXNet\n",
    "import mxnet as mx\n",
    "pca_model_params = mx.ndarray.load('model_algo-1')"
   ]
  },
  {
   "cell_type": "code",
   "execution_count": 16,
   "id": "ab851740",
   "metadata": {},
   "outputs": [],
   "source": [
    "# Extract explained-variance-ratio vector\n",
    "s=pd.DataFrame(pca_model_params['s'].asnumpy())\n",
    "v=pd.DataFrame(pca_model_params['v'].asnumpy())"
   ]
  },
  {
   "cell_type": "code",
   "execution_count": 17,
   "id": "d798c2d9",
   "metadata": {},
   "outputs": [
    {
     "data": {
      "text/plain": [
       "0    0.622284\n",
       "dtype: float32"
      ]
     },
     "execution_count": 17,
     "metadata": {},
     "output_type": "execute_result"
    }
   ],
   "source": [
    "#Calculate the variance explained by the largest n components that we want to keep.\n",
    "# Take the top 5\n",
    "# The largest 5 components explain ~62% of the total variance in the dataset\n",
    "s.iloc[14:,:].apply(lambda x: x*x).sum()/s.apply(lambda x: x*x).sum()"
   ]
  },
  {
   "cell_type": "code",
   "execution_count": 18,
   "id": "d8e3699c",
   "metadata": {},
   "outputs": [],
   "source": [
    "# After keeping the top 5 components, take only the 5 largest components from original s and v matrix\n",
    "s_5=s.iloc[14:,:]\n",
    "v_5=v.iloc[:,14:]\n",
    "v_5_columns=[0,1,2,3,4]"
   ]
  },
  {
   "cell_type": "code",
   "execution_count": 19,
   "id": "7f88af3f",
   "metadata": {},
   "outputs": [
    {
     "data": {
      "text/html": [
       "<div>\n",
       "<style scoped>\n",
       "    .dataframe tbody tr th:only-of-type {\n",
       "        vertical-align: middle;\n",
       "    }\n",
       "\n",
       "    .dataframe tbody tr th {\n",
       "        vertical-align: top;\n",
       "    }\n",
       "\n",
       "    .dataframe thead th {\n",
       "        text-align: right;\n",
       "    }\n",
       "</style>\n",
       "<table border=\"1\" class=\"dataframe\">\n",
       "  <thead>\n",
       "    <tr style=\"text-align: right;\">\n",
       "      <th></th>\n",
       "      <th>0</th>\n",
       "      <th>1</th>\n",
       "      <th>2</th>\n",
       "      <th>3</th>\n",
       "      <th>4</th>\n",
       "    </tr>\n",
       "  </thead>\n",
       "  <tbody>\n",
       "    <tr>\n",
       "      <th>0</th>\n",
       "      <td>0.407281</td>\n",
       "      <td>-0.448665</td>\n",
       "      <td>0.193074</td>\n",
       "      <td>0.289915</td>\n",
       "      <td>-0.059501</td>\n",
       "    </tr>\n",
       "    <tr>\n",
       "      <th>1</th>\n",
       "      <td>0.217295</td>\n",
       "      <td>-0.079499</td>\n",
       "      <td>-0.023497</td>\n",
       "      <td>-0.452234</td>\n",
       "      <td>-0.036570</td>\n",
       "    </tr>\n",
       "    <tr>\n",
       "      <th>2</th>\n",
       "      <td>-0.584830</td>\n",
       "      <td>-0.525670</td>\n",
       "      <td>0.547078</td>\n",
       "      <td>-0.047001</td>\n",
       "      <td>-0.035020</td>\n",
       "    </tr>\n",
       "    <tr>\n",
       "      <th>3</th>\n",
       "      <td>0.160280</td>\n",
       "      <td>-0.319543</td>\n",
       "      <td>-0.043324</td>\n",
       "      <td>-0.762302</td>\n",
       "      <td>0.045018</td>\n",
       "    </tr>\n",
       "    <tr>\n",
       "      <th>4</th>\n",
       "      <td>0.098019</td>\n",
       "      <td>0.332768</td>\n",
       "      <td>0.286093</td>\n",
       "      <td>-0.152991</td>\n",
       "      <td>-0.065728</td>\n",
       "    </tr>\n",
       "  </tbody>\n",
       "</table>\n",
       "</div>"
      ],
      "text/plain": [
       "          0         1         2         3         4\n",
       "0  0.407281 -0.448665  0.193074  0.289915 -0.059501\n",
       "1  0.217295 -0.079499 -0.023497 -0.452234 -0.036570\n",
       "2 -0.584830 -0.525670  0.547078 -0.047001 -0.035020\n",
       "3  0.160280 -0.319543 -0.043324 -0.762302  0.045018\n",
       "4  0.098019  0.332768  0.286093 -0.152991 -0.065728"
      ]
     },
     "execution_count": 19,
     "metadata": {},
     "output_type": "execute_result"
    }
   ],
   "source": [
    "v_5.columns = range(v_5.columns.size)\n",
    "v_5.head()"
   ]
  },
  {
   "cell_type": "code",
   "execution_count": 20,
   "id": "0743058f",
   "metadata": {},
   "outputs": [
    {
     "data": {
      "image/png": "[encoded data removed]",
      "text/plain": [
       "<Figure size 432x288 with 1 Axes>"
      ]
     },
     "metadata": {},
     "output_type": "display_data"
    }
   ],
   "source": [
    "# Examine the makeup of one of the PCA components based on the weightings of the original features \\n\",\n",
    "# that are included in the component\\n\",\n",
    "# Understand what the key positive and negative attributes are for the component\\n\",\n",
    "component_num=1\n",
    "first_comp = v_5[5-component_num]\n",
    "comps = pd.DataFrame(list(zip(first_comp, absence_scaled.columns)), columns=['weights', 'features'])\n",
    "comps['abs_weights']=comps['weights'].apply(lambda x: np.abs(x))\n",
    "ax=sns.barplot(data=comps.sort_values('abs_weights', ascending=False).head(10), x=\"weights\", y=\"features\", palette=\"Blues_d\")\n",
    "ax.set_title(\"PCA Component Makeup: #\" + str(component_num))\n",
    "plt.show()"
   ]
  },
  {
   "cell_type": "code",
   "execution_count": 21,
   "id": "e4666daa",
   "metadata": {},
   "outputs": [
    {
     "name": "stdout",
     "output_type": "stream",
     "text": [
      "CPU times: user 4 µs, sys: 1 µs, total: 5 µs\n",
      "Wall time: 10.7 µs\n"
     ]
    },
    {
     "name": "stderr",
     "output_type": "stream",
     "text": [
      "Defaulting to the only supported framework/algorithm version: 1. Ignoring framework/algorithm version: 1.\n"
     ]
    },
    {
     "name": "stdout",
     "output_type": "stream",
     "text": [
      "-------------!"
     ]
    }
   ],
   "source": [
    "%time\n",
    "pca_predictor = pca_SM.deploy(initial_instance_count=1,\n",
    "                             instance_type='ml.t2.medium')"
   ]
  },
  {
   "cell_type": "code",
   "execution_count": 22,
   "id": "4d3b8f63",
   "metadata": {},
   "outputs": [
    {
     "name": "stdout",
     "output_type": "stream",
     "text": [
      "CPU times: user 3 µs, sys: 0 ns, total: 3 µs\n",
      "Wall time: 7.63 µs\n"
     ]
    }
   ],
   "source": [
    "%time\n",
    "result = pca_predictor.predict(train_data)\n",
    "\n"
   ]
  },
  {
   "cell_type": "code",
   "execution_count": 23,
   "id": "d222b73f",
   "metadata": {},
   "outputs": [],
   "source": [
    "# Create a dataset where each absenteeism is described by the 5 principle components,\n",
    "PCA_list=['Social drinker', 'Distance from Residence to Work', 'Weight', 'Education', 'Body mass index']\n",
    "absence_transformed=pd.DataFrame()\n",
    "for a in result:\n",
    "    b=a.label['projection'].float32_tensor.values\n",
    "    absence_transformed=absence_transformed.append([list(b)])\n",
    "absence_transformed.index=absence_scaled.index\n",
    "absence_transformed=absence_transformed.iloc[:,14:]\n",
    "absence_transformed.columns=PCA_list"
   ]
  },
  {
   "cell_type": "code",
   "execution_count": 24,
   "id": "831920c5",
   "metadata": {},
   "outputs": [
    {
     "data": {
      "text/html": [
       "<div>\n",
       "<style scoped>\n",
       "    .dataframe tbody tr th:only-of-type {\n",
       "        vertical-align: middle;\n",
       "    }\n",
       "\n",
       "    .dataframe tbody tr th {\n",
       "        vertical-align: top;\n",
       "    }\n",
       "\n",
       "    .dataframe thead th {\n",
       "        text-align: right;\n",
       "    }\n",
       "</style>\n",
       "<table border=\"1\" class=\"dataframe\">\n",
       "  <thead>\n",
       "    <tr style=\"text-align: right;\">\n",
       "      <th></th>\n",
       "      <th>Social drinker</th>\n",
       "      <th>Distance from Residence to Work</th>\n",
       "      <th>Weight</th>\n",
       "      <th>Education</th>\n",
       "      <th>Body mass index</th>\n",
       "    </tr>\n",
       "    <tr>\n",
       "      <th>Reason for absence</th>\n",
       "      <th></th>\n",
       "      <th></th>\n",
       "      <th></th>\n",
       "      <th></th>\n",
       "      <th></th>\n",
       "    </tr>\n",
       "  </thead>\n",
       "  <tbody>\n",
       "    <tr>\n",
       "      <th>26</th>\n",
       "      <td>0.220163</td>\n",
       "      <td>0.277262</td>\n",
       "      <td>0.023891</td>\n",
       "      <td>0.416488</td>\n",
       "      <td>-0.574165</td>\n",
       "    </tr>\n",
       "    <tr>\n",
       "      <th>0</th>\n",
       "      <td>-0.813139</td>\n",
       "      <td>0.473745</td>\n",
       "      <td>-0.941796</td>\n",
       "      <td>0.071819</td>\n",
       "      <td>-0.446411</td>\n",
       "    </tr>\n",
       "    <tr>\n",
       "      <th>23</th>\n",
       "      <td>0.119235</td>\n",
       "      <td>-0.130268</td>\n",
       "      <td>-0.052720</td>\n",
       "      <td>0.539152</td>\n",
       "      <td>-0.643213</td>\n",
       "    </tr>\n",
       "    <tr>\n",
       "      <th>7</th>\n",
       "      <td>-0.839607</td>\n",
       "      <td>0.590692</td>\n",
       "      <td>0.207264</td>\n",
       "      <td>0.134280</td>\n",
       "      <td>-0.147293</td>\n",
       "    </tr>\n",
       "    <tr>\n",
       "      <th>23</th>\n",
       "      <td>-0.115692</td>\n",
       "      <td>0.061643</td>\n",
       "      <td>0.277216</td>\n",
       "      <td>0.362107</td>\n",
       "      <td>-0.585175</td>\n",
       "    </tr>\n",
       "  </tbody>\n",
       "</table>\n",
       "</div>"
      ],
      "text/plain": [
       "                    Social drinker  Distance from Residence to Work    Weight  \\\n",
       "Reason for absence                                                              \n",
       "26                        0.220163                         0.277262  0.023891   \n",
       "0                        -0.813139                         0.473745 -0.941796   \n",
       "23                        0.119235                        -0.130268 -0.052720   \n",
       "7                        -0.839607                         0.590692  0.207264   \n",
       "23                       -0.115692                         0.061643  0.277216   \n",
       "\n",
       "                    Education  Body mass index  \n",
       "Reason for absence                              \n",
       "26                   0.416488        -0.574165  \n",
       "0                    0.071819        -0.446411  \n",
       "23                   0.539152        -0.643213  \n",
       "7                    0.134280        -0.147293  \n",
       "23                   0.362107        -0.585175  "
      ]
     },
     "execution_count": 24,
     "metadata": {},
     "output_type": "execute_result"
    }
   ],
   "source": [
    "absence_transformed.head()"
   ]
  },
  {
   "cell_type": "code",
   "execution_count": 25,
   "id": "65b69fc3",
   "metadata": {},
   "outputs": [],
   "source": [
    "# Use the Kmeans algo to segment the absenteeism by the 5 PCA attributes we created.\n",
    "train_data = absence_transformed.values.astype('float32')"
   ]
  },
  {
   "cell_type": "code",
   "execution_count": 26,
   "id": "811af25b",
   "metadata": {},
   "outputs": [
    {
     "name": "stderr",
     "output_type": "stream",
     "text": [
      "train_instance_count has been renamed in sagemaker>=2.\n",
      "See: https://sagemaker.readthedocs.io/en/stable/v2.html for details.\n",
      "train_instance_type has been renamed in sagemaker>=2.\n",
      "See: https://sagemaker.readthedocs.io/en/stable/v2.html for details.\n"
     ]
    }
   ],
   "source": [
    "# Find the top 7 clusters from our dataset\\n\",\n",
    "from sagemaker import KMeans\n",
    "\n",
    "num_clusters = 7\n",
    "kmeans = KMeans(role=role,\n",
    "                train_instance_count=1,\n",
    "                train_instance_type='ml.c4.xlarge',\n",
    "                output_path='s3://'+ bucket +'/absence/',\n",
    "                k=num_clusters)"
   ]
  },
  {
   "cell_type": "code",
   "execution_count": 27,
   "id": "d570ada7",
   "metadata": {},
   "outputs": [
    {
     "name": "stderr",
     "output_type": "stream",
     "text": [
      "Defaulting to the only supported framework/algorithm version: 1. Ignoring framework/algorithm version: 1.\n"
     ]
    },
    {
     "name": "stdout",
     "output_type": "stream",
     "text": [
      "CPU times: user 3 µs, sys: 0 ns, total: 3 µs\n",
      "Wall time: 7.63 µs\n"
     ]
    },
    {
     "name": "stderr",
     "output_type": "stream",
     "text": [
      "Defaulting to the only supported framework/algorithm version: 1. Ignoring framework/algorithm version: 1.\n"
     ]
    },
    {
     "name": "stdout",
     "output_type": "stream",
     "text": [
      "2022-09-23 18:38:35 Starting - Starting the training job...\n",
      "2022-09-23 18:39:03 Starting - Preparing the instances for trainingProfilerReport-1663958315: InProgress\n",
      ".........\n",
      "2022-09-23 18:40:19 Downloading - Downloading input data...\n",
      "2022-09-23 18:40:59 Training - Downloading the training image......\n",
      "2022-09-23 18:42:06 Training - Training image download completed. Training in progress..\u001b[34mDocker entrypoint called with argument(s): train\u001b[0m\n",
      "\u001b[34mRunning default environment configuration script\u001b[0m\n",
      "\u001b[34m[09/23/2022 18:42:10 INFO 139926763284288] Reading default configuration from /opt/amazon/lib/python3.7/site-packages/algorithm/resources/default-input.json: {'init_method': 'random', 'mini_batch_size': '5000', 'epochs': '1', 'extra_center_factor': 'auto', 'local_lloyd_max_iter': '300', 'local_lloyd_tol': '0.0001', 'local_lloyd_init_method': 'kmeans++', 'local_lloyd_num_trials': 'auto', 'half_life_time_size': '0', 'eval_metrics': '[\"msd\"]', 'force_dense': 'true', '_disable_wait_to_read': 'false', '_enable_profiler': 'false', '_kvstore': 'auto', '_log_level': 'info', '_num_gpus': 'auto', '_num_kv_servers': '1', '_num_slices': '1', '_tuning_objective_metric': ''}\u001b[0m\n",
      "\u001b[34m[09/23/2022 18:42:10 INFO 139926763284288] Merging with provided configuration from /opt/ml/input/config/hyperparameters.json: {'feature_dim': '5', 'force_dense': 'True', 'k': '7'}\u001b[0m\n",
      "\u001b[34m[09/23/2022 18:42:10 INFO 139926763284288] Final configuration: {'init_method': 'random', 'mini_batch_size': '5000', 'epochs': '1', 'extra_center_factor': 'auto', 'local_lloyd_max_iter': '300', 'local_lloyd_tol': '0.0001', 'local_lloyd_init_method': 'kmeans++', 'local_lloyd_num_trials': 'auto', 'half_life_time_size': '0', 'eval_metrics': '[\"msd\"]', 'force_dense': 'True', '_disable_wait_to_read': 'false', '_enable_profiler': 'false', '_kvstore': 'auto', '_log_level': 'info', '_num_gpus': 'auto', '_num_kv_servers': '1', '_num_slices': '1', '_tuning_objective_metric': '', 'feature_dim': '5', 'k': '7'}\u001b[0m\n",
      "\u001b[34m[09/23/2022 18:42:13 WARNING 139926763284288] Loggers have already been setup.\u001b[0m\n",
      "\u001b[34m[09/23/2022 18:42:13 INFO 139926763284288] Final configuration: {'init_method': 'random', 'mini_batch_size': '5000', 'epochs': '1', 'extra_center_factor': 'auto', 'local_lloyd_max_iter': '300', 'local_lloyd_tol': '0.0001', 'local_lloyd_init_method': 'kmeans++', 'local_lloyd_num_trials': 'auto', 'half_life_time_size': '0', 'eval_metrics': '[\"msd\"]', 'force_dense': 'True', '_disable_wait_to_read': 'false', '_enable_profiler': 'false', '_kvstore': 'auto', '_log_level': 'info', '_num_gpus': 'auto', '_num_kv_servers': '1', '_num_slices': '1', '_tuning_objective_metric': '', 'feature_dim': '5', 'k': '7'}\u001b[0m\n",
      "\u001b[34m[09/23/2022 18:42:13 WARNING 139926763284288] Loggers have already been setup.\u001b[0m\n",
      "\u001b[34mProcess 1 is a worker.\u001b[0m\n",
      "\u001b[34m[09/23/2022 18:42:13 INFO 139926763284288] Using default worker.\u001b[0m\n",
      "\u001b[34m[09/23/2022 18:42:13 INFO 139926763284288] Loaded iterator creator application/x-recordio-protobuf for content type ('application/x-recordio-protobuf', '1.0')\u001b[0m\n",
      "\u001b[34m[09/23/2022 18:42:13 INFO 139926763284288] Create Store: local\u001b[0m\n",
      "\u001b[34m[09/23/2022 18:42:13 INFO 139926763284288] nvidia-smi: took 0.042 seconds to run.\u001b[0m\n",
      "\u001b[34m[09/23/2022 18:42:13 INFO 139926763284288] nvidia-smi identified 0 GPUs.\u001b[0m\n",
      "\u001b[34m[09/23/2022 18:42:13 INFO 139926763284288] Number of GPUs being used: 0\u001b[0m\n",
      "\u001b[34m[09/23/2022 18:42:13 INFO 139926763284288] Checkpoint loading and saving are disabled.\u001b[0m\n",
      "\u001b[34m[09/23/2022 18:42:13 INFO 139926763284288] Setting up with params: {'init_method': 'random', 'mini_batch_size': '5000', 'epochs': '1', 'extra_center_factor': 'auto', 'local_lloyd_max_iter': '300', 'local_lloyd_tol': '0.0001', 'local_lloyd_init_method': 'kmeans++', 'local_lloyd_num_trials': 'auto', 'half_life_time_size': '0', 'eval_metrics': '[\"msd\"]', 'force_dense': 'True', '_disable_wait_to_read': 'false', '_enable_profiler': 'false', '_kvstore': 'auto', '_log_level': 'info', '_num_gpus': 'auto', '_num_kv_servers': '1', '_num_slices': '1', '_tuning_objective_metric': '', 'feature_dim': '5', 'k': '7'}\u001b[0m\n",
      "\u001b[34m[09/23/2022 18:42:13 INFO 139926763284288] 'extra_center_factor' was set to 'auto', evaluated to 10.\u001b[0m\n",
      "\u001b[34m[09/23/2022 18:42:13 INFO 139926763284288] Number of GPUs being used: 0\u001b[0m\n",
      "\u001b[34m[09/23/2022 18:42:13 INFO 139926763284288] number of center slices 1\u001b[0m\n",
      "\u001b[34m[09/23/2022 18:42:13 WARNING 139926763284288] Batch size 5000 is bigger than the first batch data. Effective batch size used to initialize is 740\u001b[0m\n",
      "\u001b[34m#metrics {\"StartTime\": 1663958534.0549407, \"EndTime\": 1663958534.0549934, \"Dimensions\": {\"Algorithm\": \"AWS/KMeansWebscale\", \"Host\": \"algo-1\", \"Operation\": \"training\", \"Meta\": \"init_train_data_iter\"}, \"Metrics\": {\"Total Records Seen\": {\"sum\": 740.0, \"count\": 1, \"min\": 740, \"max\": 740}, \"Total Batches Seen\": {\"sum\": 1.0, \"count\": 1, \"min\": 1, \"max\": 1}, \"Max Records Seen Between Resets\": {\"sum\": 740.0, \"count\": 1, \"min\": 740, \"max\": 740}, \"Max Batches Seen Between Resets\": {\"sum\": 1.0, \"count\": 1, \"min\": 1, \"max\": 1}, \"Reset Count\": {\"sum\": 0.0, \"count\": 1, \"min\": 0, \"max\": 0}, \"Number of Records Since Last Reset\": {\"sum\": 740.0, \"count\": 1, \"min\": 740, \"max\": 740}, \"Number of Batches Since Last Reset\": {\"sum\": 1.0, \"count\": 1, \"min\": 1, \"max\": 1}}}\u001b[0m\n",
      "\u001b[34m[2022-09-23 18:42:14.055] [tensorio] [info] epoch_stats={\"data_pipeline\": \"/opt/ml/input/data/train\", \"epoch\": 0, \"duration\": 66, \"num_examples\": 1, \"num_bytes\": 32560}\u001b[0m\n",
      "\u001b[34m[2022-09-23 18:42:14.251] [tensorio] [info] epoch_stats={\"data_pipeline\": \"/opt/ml/input/data/train\", \"epoch\": 1, \"duration\": 195, \"num_examples\": 1, \"num_bytes\": 32560}\u001b[0m\n",
      "\u001b[34m[09/23/2022 18:42:14 INFO 139926763284288] processed a total of 740 examples\u001b[0m\n",
      "\u001b[34m[09/23/2022 18:42:14 INFO 139926763284288] #progress_metric: host=algo-1, completed 100.0 % of epochs\u001b[0m\n",
      "\u001b[34m#metrics {\"StartTime\": 1663958534.0554476, \"EndTime\": 1663958534.2518256, \"Dimensions\": {\"Algorithm\": \"AWS/KMeansWebscale\", \"Host\": \"algo-1\", \"Operation\": \"training\", \"epoch\": 0, \"Meta\": \"training_data_iter\"}, \"Metrics\": {\"Total Records Seen\": {\"sum\": 1480.0, \"count\": 1, \"min\": 1480, \"max\": 1480}, \"Total Batches Seen\": {\"sum\": 2.0, \"count\": 1, \"min\": 2, \"max\": 2}, \"Max Records Seen Between Resets\": {\"sum\": 740.0, \"count\": 1, \"min\": 740, \"max\": 740}, \"Max Batches Seen Between Resets\": {\"sum\": 1.0, \"count\": 1, \"min\": 1, \"max\": 1}, \"Reset Count\": {\"sum\": 1.0, \"count\": 1, \"min\": 1, \"max\": 1}, \"Number of Records Since Last Reset\": {\"sum\": 740.0, \"count\": 1, \"min\": 740, \"max\": 740}, \"Number of Batches Since Last Reset\": {\"sum\": 1.0, \"count\": 1, \"min\": 1, \"max\": 1}}}\u001b[0m\n",
      "\u001b[34m[09/23/2022 18:42:14 INFO 139926763284288] #throughput_metric: host=algo-1, train throughput=3765.5046174302533 records/second\u001b[0m\n",
      "\u001b[34m[09/23/2022 18:42:14 WARNING 139926763284288] wait_for_all_workers will not sync workers since the kv store is not running distributed\u001b[0m\n",
      "\u001b[34m[09/23/2022 18:42:14 INFO 139926763284288] shrinking 70 centers into 7\u001b[0m\n",
      "\u001b[34m[09/23/2022 18:42:14 INFO 139926763284288] local kmeans attempt #0. Current mean square distance 0.270140\u001b[0m\n",
      "\u001b[34m[09/23/2022 18:42:14 INFO 139926763284288] local kmeans attempt #1. Current mean square distance 0.262095\u001b[0m\n",
      "\u001b[34m[09/23/2022 18:42:14 INFO 139926763284288] local kmeans attempt #2. Current mean square distance 0.240222\u001b[0m\n",
      "\u001b[34m[09/23/2022 18:42:14 INFO 139926763284288] local kmeans attempt #3. Current mean square distance 0.249480\u001b[0m\n",
      "\u001b[34m[09/23/2022 18:42:14 INFO 139926763284288] local kmeans attempt #4. Current mean square distance 0.255823\u001b[0m\n",
      "\u001b[34m[09/23/2022 18:42:14 INFO 139926763284288] local kmeans attempt #5. Current mean square distance 0.257885\u001b[0m\n",
      "\u001b[34m[09/23/2022 18:42:14 INFO 139926763284288] local kmeans attempt #6. Current mean square distance 0.268011\u001b[0m\n",
      "\u001b[34m[09/23/2022 18:42:14 INFO 139926763284288] local kmeans attempt #7. Current mean square distance 0.248730\u001b[0m\n",
      "\u001b[34m[09/23/2022 18:42:14 INFO 139926763284288] local kmeans attempt #8. Current mean square distance 0.243766\u001b[0m\n",
      "\u001b[34m[09/23/2022 18:42:14 INFO 139926763284288] local kmeans attempt #9. Current mean square distance 0.269253\u001b[0m\n",
      "\u001b[34m[09/23/2022 18:42:14 INFO 139926763284288] finished shrinking process. Mean Square Distance = 0\u001b[0m\n",
      "\u001b[34m[09/23/2022 18:42:14 INFO 139926763284288] #quality_metric: host=algo-1, train msd <loss>=0.24022209644317627\u001b[0m\n",
      "\u001b[34m[09/23/2022 18:42:14 INFO 139926763284288] gradient: one_hot took: 42.8775%, (0.086907 secs)\u001b[0m\n",
      "\u001b[34m[09/23/2022 18:42:14 INFO 139926763284288] compute all data-center distances: inner product took: 34.5679%, (0.070064 secs)\u001b[0m\n",
      "\u001b[34m[09/23/2022 18:42:14 INFO 139926763284288] predict compute msd took: 4.8810%, (0.009893 secs)\u001b[0m\n",
      "\u001b[34m[09/23/2022 18:42:14 INFO 139926763284288] collect from kv store took: 3.7367%, (0.007574 secs)\u001b[0m\n",
      "\u001b[34m[09/23/2022 18:42:14 INFO 139926763284288] splitting centers key-value pair took: 3.6662%, (0.007431 secs)\u001b[0m\n",
      "\u001b[34m[09/23/2022 18:42:14 INFO 139926763284288] gradient: cluster center took: 3.3410%, (0.006772 secs)\u001b[0m\n",
      "\u001b[34m[09/23/2022 18:42:14 INFO 139926763284288] compute all data-center distances: point norm took: 3.3019%, (0.006692 secs)\u001b[0m\n",
      "\u001b[34m[09/23/2022 18:42:14 INFO 139926763284288] update state and report convergance took: 1.8809%, (0.003812 secs)\u001b[0m\n",
      "\u001b[34m[09/23/2022 18:42:14 INFO 139926763284288] batch data loading with context took: 1.2061%, (0.002445 secs)\u001b[0m\n",
      "\u001b[34m[09/23/2022 18:42:14 INFO 139926763284288] gradient: cluster size  took: 0.2604%, (0.000528 secs)\u001b[0m\n",
      "\u001b[34m[09/23/2022 18:42:14 INFO 139926763284288] update set-up time took: 0.1680%, (0.000340 secs)\u001b[0m\n",
      "\u001b[34m[09/23/2022 18:42:14 INFO 139926763284288] compute all data-center distances: center norm took: 0.1019%, (0.000206 secs)\u001b[0m\n",
      "\u001b[34m[09/23/2022 18:42:14 INFO 139926763284288] predict minus dist took: 0.0106%, (0.000021 secs)\u001b[0m\n",
      "\u001b[34m[09/23/2022 18:42:14 INFO 139926763284288] TOTAL took: 0.20268630981445312\u001b[0m\n",
      "\u001b[34m[09/23/2022 18:42:14 INFO 139926763284288] Number of GPUs being used: 0\u001b[0m\n",
      "\u001b[34m#metrics {\"StartTime\": 1663958533.9883075, \"EndTime\": 1663958534.6070068, \"Dimensions\": {\"Algorithm\": \"AWS/KMeansWebscale\", \"Host\": \"algo-1\", \"Operation\": \"training\"}, \"Metrics\": {\"initialize.time\": {\"sum\": 59.63468551635742, \"count\": 1, \"min\": 59.63468551635742, \"max\": 59.63468551635742}, \"epochs\": {\"sum\": 1.0, \"count\": 1, \"min\": 1, \"max\": 1}, \"update.time\": {\"sum\": 196.14458084106445, \"count\": 1, \"min\": 196.14458084106445, \"max\": 196.14458084106445}, \"_shrink.time\": {\"sum\": 351.1338233947754, \"count\": 1, \"min\": 351.1338233947754, \"max\": 351.1338233947754}, \"finalize.time\": {\"sum\": 352.7226448059082, \"count\": 1, \"min\": 352.7226448059082, \"max\": 352.7226448059082}, \"model.serialize.time\": {\"sum\": 2.105712890625, \"count\": 1, \"min\": 2.105712890625, \"max\": 2.105712890625}}}\u001b[0m\n",
      "\u001b[34m[09/23/2022 18:42:14 INFO 139926763284288] Test data is not provided.\u001b[0m\n",
      "\u001b[34m#metrics {\"StartTime\": 1663958534.6071093, \"EndTime\": 1663958534.6074195, \"Dimensions\": {\"Algorithm\": \"AWS/KMeansWebscale\", \"Host\": \"algo-1\", \"Operation\": \"training\"}, \"Metrics\": {\"setuptime\": {\"sum\": 3.9453506469726562, \"count\": 1, \"min\": 3.9453506469726562, \"max\": 3.9453506469726562}, \"totaltime\": {\"sum\": 686.2542629241943, \"count\": 1, \"min\": 686.2542629241943, \"max\": 686.2542629241943}}}\u001b[0m\n"
     ]
    },
    {
     "name": "stdout",
     "output_type": "stream",
     "text": [
      "\n",
      "2022-09-23 18:42:21 Uploading - Uploading generated training model\n",
      "2022-09-23 18:42:59 Completed - Training job completed\n",
      "Training seconds: 148\n",
      "Billable seconds: 148\n"
     ]
    }
   ],
   "source": [
    "%time\n",
    "kmeans.fit(kmeans.record_set(train_data))"
   ]
  },
  {
   "cell_type": "code",
   "execution_count": 28,
   "id": "aad3b8a4",
   "metadata": {},
   "outputs": [
    {
     "name": "stderr",
     "output_type": "stream",
     "text": [
      "Defaulting to the only supported framework/algorithm version: 1. Ignoring framework/algorithm version: 1.\n"
     ]
    },
    {
     "name": "stdout",
     "output_type": "stream",
     "text": [
      "CPU times: user 3 µs, sys: 0 ns, total: 3 µs\n",
      "Wall time: 7.63 µs\n",
      "-----------------!"
     ]
    }
   ],
   "source": [
    "%time \n",
    "kmeans_predictor = kmeans.deploy(initial_instance_count=1,\n",
    "                                instance_type='ml.t2.medium')"
   ]
  },
  {
   "cell_type": "code",
   "execution_count": 32,
   "id": "7b9f29ac",
   "metadata": {},
   "outputs": [
    {
     "name": "stdout",
     "output_type": "stream",
     "text": [
      "CPU times: user 4 µs, sys: 0 ns, total: 4 µs\n",
      "Wall time: 7.87 µs\n"
     ]
    }
   ],
   "source": [
    "%time\n",
    "result=kmeans_predictor.predict(train_data)"
   ]
  },
  {
   "cell_type": "code",
   "execution_count": 33,
   "id": "1f3fe8db",
   "metadata": {},
   "outputs": [],
   "source": [
    "# Breakdonw of cluster counts and distribution of clusters\n",
    "cluster_labels = [r.label['closest_cluster'].float32_tensor.values[0] for r in result]"
   ]
  },
  {
   "cell_type": "code",
   "execution_count": 34,
   "id": "b2d3393b",
   "metadata": {},
   "outputs": [
    {
     "name": "stderr",
     "output_type": "stream",
     "text": [
      "/home/ec2-user/anaconda3/envs/python3/lib/python3.8/site-packages/seaborn/distributions.py:2619: FutureWarning: `distplot` is a deprecated function and will be removed in a future version. Please adapt your code to use either `displot` (a figure-level function with similar flexibility) or `histplot` (an axes-level function for histograms).\n",
      "  warnings.warn(msg, FutureWarning)\n"
     ]
    },
    {
     "data": {
      "image/png": "[encoded data removed]",
      "text/plain": [
       "<Figure size 432x216 with 1 Axes>"
      ]
     },
     "metadata": {},
     "output_type": "display_data"
    }
   ],
   "source": [
    "# Plot Clusters\n",
    "ax = plt.subplots(figsize=(6,3))\n",
    "ax = sns.distplot(cluster_labels, kde=False)\n",
    "title = \"Histogram of Cluster Counts\"\n",
    "ax.set_title(title, fontsize=12)\n",
    "plt.show()"
   ]
  },
  {
   "cell_type": "code",
   "execution_count": 35,
   "id": "5b25b02f",
   "metadata": {},
   "outputs": [
    {
     "data": {
      "text/plain": [
       "3.0    173\n",
       "6.0    116\n",
       "1.0    112\n",
       "4.0     93\n",
       "5.0     86\n",
       "0.0     84\n",
       "2.0     76\n",
       "Name: 0, dtype: int64"
      ]
     },
     "execution_count": 35,
     "metadata": {},
     "output_type": "execute_result"
    }
   ],
   "source": [
    "pd.DataFrame(cluster_labels)[0].value_counts()"
   ]
  },
  {
   "cell_type": "code",
   "execution_count": 36,
   "id": "ba57dd54",
   "metadata": {},
   "outputs": [
    {
     "data": {
      "image/png": "[encoded data removed]",
      "text/plain": [
       "<Figure size 432x216 with 1 Axes>"
      ]
     },
     "metadata": {},
     "output_type": "display_data"
    }
   ],
   "source": [
    "# Plot Clusters\n",
    "ax = plt.subplots(figsize=(6,3))\n",
    "ax = sns.distplot(cluster_labels, kde=False)\n",
    "title = \"Histogram of Cluster Counts\"\n",
    "ax.set_title(title, fontsize=12)\n",
    "plt.show()"
   ]
  },
  {
   "cell_type": "code",
   "execution_count": 37,
   "id": "c2729748",
   "metadata": {},
   "outputs": [
    {
     "name": "stdout",
     "output_type": "stream",
     "text": [
      "model_algo-1\n"
     ]
    },
    {
     "data": {
      "text/plain": [
       "0"
      ]
     },
     "execution_count": 37,
     "metadata": {},
     "output_type": "execute_result"
    }
   ],
   "source": [
    "# Access the underlying model to get the cluster centers\n",
    "# Centers will help describe which features characterize each cluster\n",
    "# First retrieve the K-Means model attributes\n",
    "job_name = kmeans.latest_training_job.name\n",
    "model_key = \"absence/\" + job_name + \"/output/model.tar.gz\"\n",
    "boto3.resource('s3').Bucket(bucket).download_file(model_key, 'model.tar.gz')\n",
    "os.system('tar -zxvf model.tar.gz')"
   ]
  },
  {
   "cell_type": "code",
   "execution_count": 38,
   "id": "039ed316",
   "metadata": {},
   "outputs": [],
   "source": [
    "Kmeans_model_params = mx.ndarray.load('model_algo-1')"
   ]
  },
  {
   "cell_type": "code",
   "execution_count": 39,
   "id": "6cb5e781",
   "metadata": {},
   "outputs": [],
   "source": [
    "# Cluster Centroid Locations: The location of the centers of each cluster identified by the Kmeans algorithm\\n\",\n",
    "cluster_centroids=pd.DataFrame(Kmeans_model_params[0].asnumpy())\n",
    "cluster_centroids.columns=absence_transformed.columns"
   ]
  },
  {
   "cell_type": "code",
   "execution_count": 40,
   "id": "3dd7ec15",
   "metadata": {},
   "outputs": [
    {
     "data": {
      "text/html": [
       "<div>\n",
       "<style scoped>\n",
       "    .dataframe tbody tr th:only-of-type {\n",
       "        vertical-align: middle;\n",
       "    }\n",
       "\n",
       "    .dataframe tbody tr th {\n",
       "        vertical-align: top;\n",
       "    }\n",
       "\n",
       "    .dataframe thead th {\n",
       "        text-align: right;\n",
       "    }\n",
       "</style>\n",
       "<table border=\"1\" class=\"dataframe\">\n",
       "  <thead>\n",
       "    <tr style=\"text-align: right;\">\n",
       "      <th></th>\n",
       "      <th>Social drinker</th>\n",
       "      <th>Distance from Residence to Work</th>\n",
       "      <th>Weight</th>\n",
       "      <th>Education</th>\n",
       "      <th>Body mass index</th>\n",
       "    </tr>\n",
       "  </thead>\n",
       "  <tbody>\n",
       "    <tr>\n",
       "      <th>0</th>\n",
       "      <td>0.266565</td>\n",
       "      <td>-0.120151</td>\n",
       "      <td>0.117880</td>\n",
       "      <td>-0.510888</td>\n",
       "      <td>-0.483240</td>\n",
       "    </tr>\n",
       "    <tr>\n",
       "      <th>1</th>\n",
       "      <td>-0.147625</td>\n",
       "      <td>-0.127010</td>\n",
       "      <td>0.289609</td>\n",
       "      <td>0.163675</td>\n",
       "      <td>0.670386</td>\n",
       "    </tr>\n",
       "    <tr>\n",
       "      <th>2</th>\n",
       "      <td>-0.127036</td>\n",
       "      <td>0.585411</td>\n",
       "      <td>0.093807</td>\n",
       "      <td>-0.106866</td>\n",
       "      <td>-0.343433</td>\n",
       "    </tr>\n",
       "    <tr>\n",
       "      <th>3</th>\n",
       "      <td>0.033372</td>\n",
       "      <td>-0.051645</td>\n",
       "      <td>0.183680</td>\n",
       "      <td>0.309833</td>\n",
       "      <td>-0.536555</td>\n",
       "    </tr>\n",
       "    <tr>\n",
       "      <th>4</th>\n",
       "      <td>-0.339703</td>\n",
       "      <td>-0.098426</td>\n",
       "      <td>-0.469635</td>\n",
       "      <td>-0.030018</td>\n",
       "      <td>-0.414794</td>\n",
       "    </tr>\n",
       "    <tr>\n",
       "      <th>5</th>\n",
       "      <td>0.196376</td>\n",
       "      <td>-0.221730</td>\n",
       "      <td>-0.100847</td>\n",
       "      <td>-0.524822</td>\n",
       "      <td>0.578544</td>\n",
       "    </tr>\n",
       "    <tr>\n",
       "      <th>6</th>\n",
       "      <td>0.061798</td>\n",
       "      <td>0.169225</td>\n",
       "      <td>-0.229866</td>\n",
       "      <td>0.269877</td>\n",
       "      <td>0.626005</td>\n",
       "    </tr>\n",
       "  </tbody>\n",
       "</table>\n",
       "</div>"
      ],
      "text/plain": [
       "   Social drinker  Distance from Residence to Work    Weight  Education  \\\n",
       "0        0.266565                        -0.120151  0.117880  -0.510888   \n",
       "1       -0.147625                        -0.127010  0.289609   0.163675   \n",
       "2       -0.127036                         0.585411  0.093807  -0.106866   \n",
       "3        0.033372                        -0.051645  0.183680   0.309833   \n",
       "4       -0.339703                        -0.098426 -0.469635  -0.030018   \n",
       "5        0.196376                        -0.221730 -0.100847  -0.524822   \n",
       "6        0.061798                         0.169225 -0.229866   0.269877   \n",
       "\n",
       "   Body mass index  \n",
       "0        -0.483240  \n",
       "1         0.670386  \n",
       "2        -0.343433  \n",
       "3        -0.536555  \n",
       "4        -0.414794  \n",
       "5         0.578544  \n",
       "6         0.626005  "
      ]
     },
     "execution_count": 40,
     "metadata": {},
     "output_type": "execute_result"
    }
   ],
   "source": [
    "cluster_centroids"
   ]
  },
  {
   "cell_type": "code",
   "execution_count": 41,
   "id": "855efbac",
   "metadata": {},
   "outputs": [
    {
     "data": {
      "image/png": "[encoded data removed]",
      "text/plain": [
       "<Figure size 1152x432 with 2 Axes>"
      ]
     },
     "metadata": {},
     "output_type": "display_data"
    }
   ],
   "source": [
    "# Plot a heatmap of the centroids and their location in the transformed feature space\\n\",\n",
    "plt.figure(figsize = (16, 6))\n",
    "ax = sns.heatmap(cluster_centroids.T, cmap = 'YlGnBu')\n",
    "ax.set_xlabel(\"Cluster\")\n",
    "plt.yticks(fontsize = 16)\n",
    "plt.xticks(fontsize = 16)\n",
    "ax.set_title(\"Attribute Value by Centroid\")\n",
    "plt.show()"
   ]
  },
  {
   "cell_type": "code",
   "execution_count": 42,
   "id": "9dba9b2f",
   "metadata": {},
   "outputs": [
    {
     "data": {
      "text/html": [
       "<div>\n",
       "<style scoped>\n",
       "    .dataframe tbody tr th:only-of-type {\n",
       "        vertical-align: middle;\n",
       "    }\n",
       "\n",
       "    .dataframe tbody tr th {\n",
       "        vertical-align: top;\n",
       "    }\n",
       "\n",
       "    .dataframe thead th {\n",
       "        text-align: right;\n",
       "    }\n",
       "</style>\n",
       "<table border=\"1\" class=\"dataframe\">\n",
       "  <thead>\n",
       "    <tr style=\"text-align: right;\">\n",
       "      <th></th>\n",
       "      <th>Social drinker</th>\n",
       "      <th>Distance from Residence to Work</th>\n",
       "      <th>Weight</th>\n",
       "      <th>Education</th>\n",
       "      <th>Body mass index</th>\n",
       "      <th>labels</th>\n",
       "    </tr>\n",
       "    <tr>\n",
       "      <th>Reason for absence</th>\n",
       "      <th></th>\n",
       "      <th></th>\n",
       "      <th></th>\n",
       "      <th></th>\n",
       "      <th></th>\n",
       "      <th></th>\n",
       "    </tr>\n",
       "  </thead>\n",
       "  <tbody>\n",
       "    <tr>\n",
       "      <th>26</th>\n",
       "      <td>0.220163</td>\n",
       "      <td>0.277262</td>\n",
       "      <td>0.023891</td>\n",
       "      <td>0.416488</td>\n",
       "      <td>-0.574165</td>\n",
       "      <td>3</td>\n",
       "    </tr>\n",
       "    <tr>\n",
       "      <th>0</th>\n",
       "      <td>-0.813139</td>\n",
       "      <td>0.473745</td>\n",
       "      <td>-0.941796</td>\n",
       "      <td>0.071819</td>\n",
       "      <td>-0.446411</td>\n",
       "      <td>4</td>\n",
       "    </tr>\n",
       "    <tr>\n",
       "      <th>23</th>\n",
       "      <td>0.119235</td>\n",
       "      <td>-0.130268</td>\n",
       "      <td>-0.052720</td>\n",
       "      <td>0.539152</td>\n",
       "      <td>-0.643213</td>\n",
       "      <td>3</td>\n",
       "    </tr>\n",
       "    <tr>\n",
       "      <th>7</th>\n",
       "      <td>-0.839607</td>\n",
       "      <td>0.590692</td>\n",
       "      <td>0.207264</td>\n",
       "      <td>0.134280</td>\n",
       "      <td>-0.147293</td>\n",
       "      <td>2</td>\n",
       "    </tr>\n",
       "    <tr>\n",
       "      <th>23</th>\n",
       "      <td>-0.115692</td>\n",
       "      <td>0.061643</td>\n",
       "      <td>0.277216</td>\n",
       "      <td>0.362107</td>\n",
       "      <td>-0.585175</td>\n",
       "      <td>3</td>\n",
       "    </tr>\n",
       "  </tbody>\n",
       "</table>\n",
       "</div>"
      ],
      "text/plain": [
       "                    Social drinker  Distance from Residence to Work    Weight  \\\n",
       "Reason for absence                                                              \n",
       "26                        0.220163                         0.277262  0.023891   \n",
       "0                        -0.813139                         0.473745 -0.941796   \n",
       "23                        0.119235                        -0.130268 -0.052720   \n",
       "7                        -0.839607                         0.590692  0.207264   \n",
       "23                       -0.115692                         0.061643  0.277216   \n",
       "\n",
       "                    Education  Body mass index  labels  \n",
       "Reason for absence                                      \n",
       "26                   0.416488        -0.574165       3  \n",
       "0                    0.071819        -0.446411       4  \n",
       "23                   0.539152        -0.643213       3  \n",
       "7                    0.134280        -0.147293       2  \n",
       "23                   0.362107        -0.585175       3  "
      ]
     },
     "execution_count": 42,
     "metadata": {},
     "output_type": "execute_result"
    }
   ],
   "source": [
    "# Dark Blue is a positive influence on absenteeism\n",
    "# Map the cluster labels back to each individual absenteeism and examine which were naturally grouped together\\n\",\n",
    "absence_transformed['labels']=list(map(int, cluster_labels))\n",
    "absence_transformed.head()"
   ]
  },
  {
   "cell_type": "code",
   "execution_count": 43,
   "id": "1ad2525f",
   "metadata": {},
   "outputs": [
    {
     "data": {
      "text/html": [
       "<div>\n",
       "<style scoped>\n",
       "    .dataframe tbody tr th:only-of-type {\n",
       "        vertical-align: middle;\n",
       "    }\n",
       "\n",
       "    .dataframe tbody tr th {\n",
       "        vertical-align: top;\n",
       "    }\n",
       "\n",
       "    .dataframe thead th {\n",
       "        text-align: right;\n",
       "    }\n",
       "</style>\n",
       "<table border=\"1\" class=\"dataframe\">\n",
       "  <thead>\n",
       "    <tr style=\"text-align: right;\">\n",
       "      <th></th>\n",
       "      <th>Social drinker</th>\n",
       "      <th>Distance from Residence to Work</th>\n",
       "      <th>Weight</th>\n",
       "      <th>Education</th>\n",
       "      <th>Body mass index</th>\n",
       "      <th>labels</th>\n",
       "    </tr>\n",
       "    <tr>\n",
       "      <th>Reason for absence</th>\n",
       "      <th></th>\n",
       "      <th></th>\n",
       "      <th></th>\n",
       "      <th></th>\n",
       "      <th></th>\n",
       "      <th></th>\n",
       "    </tr>\n",
       "  </thead>\n",
       "  <tbody>\n",
       "    <tr>\n",
       "      <th>11</th>\n",
       "      <td>-0.243330</td>\n",
       "      <td>0.173077</td>\n",
       "      <td>0.283201</td>\n",
       "      <td>0.288298</td>\n",
       "      <td>0.503087</td>\n",
       "      <td>1</td>\n",
       "    </tr>\n",
       "    <tr>\n",
       "      <th>18</th>\n",
       "      <td>-0.393459</td>\n",
       "      <td>0.127115</td>\n",
       "      <td>0.057678</td>\n",
       "      <td>0.302918</td>\n",
       "      <td>0.359213</td>\n",
       "      <td>1</td>\n",
       "    </tr>\n",
       "    <tr>\n",
       "      <th>23</th>\n",
       "      <td>-0.201301</td>\n",
       "      <td>-0.218218</td>\n",
       "      <td>-0.041926</td>\n",
       "      <td>0.398200</td>\n",
       "      <td>0.586990</td>\n",
       "      <td>1</td>\n",
       "    </tr>\n",
       "    <tr>\n",
       "      <th>28</th>\n",
       "      <td>-0.394209</td>\n",
       "      <td>-0.164540</td>\n",
       "      <td>0.263402</td>\n",
       "      <td>0.394709</td>\n",
       "      <td>0.329208</td>\n",
       "      <td>1</td>\n",
       "    </tr>\n",
       "    <tr>\n",
       "      <th>23</th>\n",
       "      <td>0.000691</td>\n",
       "      <td>-0.274872</td>\n",
       "      <td>0.497824</td>\n",
       "      <td>-0.040010</td>\n",
       "      <td>0.551605</td>\n",
       "      <td>1</td>\n",
       "    </tr>\n",
       "  </tbody>\n",
       "</table>\n",
       "</div>"
      ],
      "text/plain": [
       "                    Social drinker  Distance from Residence to Work    Weight  \\\n",
       "Reason for absence                                                              \n",
       "11                       -0.243330                         0.173077  0.283201   \n",
       "18                       -0.393459                         0.127115  0.057678   \n",
       "23                       -0.201301                        -0.218218 -0.041926   \n",
       "28                       -0.394209                        -0.164540  0.263402   \n",
       "23                        0.000691                        -0.274872  0.497824   \n",
       "\n",
       "                    Education  Body mass index  labels  \n",
       "Reason for absence                                      \n",
       "11                   0.288298         0.503087       1  \n",
       "18                   0.302918         0.359213       1  \n",
       "23                   0.398200         0.586990       1  \n",
       "28                   0.394709         0.329208       1  \n",
       "23                  -0.040010         0.551605       1  "
      ]
     },
     "execution_count": 43,
     "metadata": {},
     "output_type": "execute_result"
    }
   ],
   "source": [
    "# Examine one of the clusters in more detail\\n\",\n",
    "cluster=absence_transformed[absence_transformed['labels']==1]\n",
    "cluster.head(5)"
   ]
  },
  {
   "cell_type": "code",
   "execution_count": 44,
   "id": "9c53ae37",
   "metadata": {},
   "outputs": [
    {
     "name": "stderr",
     "output_type": "stream",
     "text": [
      "The endpoint attribute has been renamed in sagemaker>=2.\n",
      "See: https://sagemaker.readthedocs.io/en/stable/v2.html for details.\n"
     ]
    }
   ],
   "source": [
    "# Delete the PCA endpoint\\n\",\n",
    "sagemaker.Session().delete_endpoint(pca_predictor.endpoint)"
   ]
  },
  {
   "cell_type": "code",
   "execution_count": 45,
   "id": "42a0daa5",
   "metadata": {},
   "outputs": [
    {
     "name": "stderr",
     "output_type": "stream",
     "text": [
      "The endpoint attribute has been renamed in sagemaker>=2.\n",
      "See: https://sagemaker.readthedocs.io/en/stable/v2.html for details.\n"
     ]
    }
   ],
   "source": [
    "# Delete the Kmeans endpoint\\n\",\n",
    "sagemaker.Session().delete_endpoint(kmeans_predictor.endpoint)"
   ]
  },
  {
   "cell_type": "code",
   "execution_count": null,
   "id": "3018c5ec",
   "metadata": {},
   "outputs": [],
   "source": []
  }
 ],
 "metadata": {
  "kernelspec": {
   "display_name": "conda_python3",
   "language": "python",
   "name": "conda_python3"
  },
  "language_info": {
   "codemirror_mode": {
    "name": "ipython",
    "version": 3
   },
   "file_extension": ".py",
   "mimetype": "text/x-python",
   "name": "python",
   "nbconvert_exporter": "python",
   "pygments_lexer": "ipython3",
   "version": "3.8.12"
  }
 },
 "nbformat": 4,
 "nbformat_minor": 5
}
